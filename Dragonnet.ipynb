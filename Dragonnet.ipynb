{
  "nbformat": 4,
  "nbformat_minor": 0,
  "metadata": {
    "colab": {
      "provenance": [],
      "toc_visible": true,
      "mount_file_id": "1Ap7SQP7M-FDHeCXiJRjYx7SMmhcjHhYs",
      "authorship_tag": "ABX9TyMRe3G6d34XQS4ikbR0J4lu",
      "include_colab_link": true
    },
    "kernelspec": {
      "name": "python3",
      "display_name": "Python 3"
    },
    "language_info": {
      "name": "python"
    }
  },
  "cells": [
    {
      "cell_type": "markdown",
      "metadata": {
        "id": "view-in-github",
        "colab_type": "text"
      },
      "source": [
        "<a href=\"https://colab.research.google.com/github/aw814/dragonnet/blob/master/Dragonnet.ipynb\" target=\"_parent\"><img src=\"https://colab.research.google.com/assets/colab-badge.svg\" alt=\"Open In Colab\"/></a>"
      ]
    },
    {
      "cell_type": "markdown",
      "source": [
        "https://causalforge.readthedocs.io/en/latest/user_guide/DragonNet.html\n",
        "\n",
        "existing package that will implement Dragonnet and replicated the result using IHDP dataset"
      ],
      "metadata": {
        "id": "VVtpg3m8rl8d"
      }
    },
    {
      "cell_type": "markdown",
      "source": [
        "#Imports\n"
      ],
      "metadata": {
        "id": "fnYEwnd5lGyR"
      }
    },
    {
      "cell_type": "code",
      "source": [
        "# !pip install tensorflow==1.13.1\n",
        "# !pip install numpy==1.23.5\n",
        "!pip install pandas==1.5.0\n",
        "!pip install scikit-learn\n",
        "# !pip install keras==2.2.4\n",
        "!pip install --upgrade tensorflow\n",
        "!pip install --upgrade keras"
      ],
      "metadata": {
        "colab": {
          "base_uri": "https://localhost:8080/"
        },
        "id": "s9ZQxkSiLSq8",
        "outputId": "8764745a-d633-4339-9b4f-837853140a07",
        "collapsed": true
      },
      "execution_count": 1,
      "outputs": [
        {
          "output_type": "stream",
          "name": "stdout",
          "text": [
            "Collecting pandas==1.5.0\n",
            "  Downloading pandas-1.5.0-cp310-cp310-manylinux_2_17_x86_64.manylinux2014_x86_64.whl (12.1 MB)\n",
            "\u001b[2K     \u001b[90m━━━━━━━━━━━━━━━━━━━━━━━━━━━━━━━━━━━━━━━━\u001b[0m \u001b[32m12.1/12.1 MB\u001b[0m \u001b[31m20.4 MB/s\u001b[0m eta \u001b[36m0:00:00\u001b[0m\n",
            "\u001b[?25hRequirement already satisfied: python-dateutil>=2.8.1 in /usr/local/lib/python3.10/dist-packages (from pandas==1.5.0) (2.8.2)\n",
            "Requirement already satisfied: pytz>=2020.1 in /usr/local/lib/python3.10/dist-packages (from pandas==1.5.0) (2023.4)\n",
            "Requirement already satisfied: numpy>=1.21.0 in /usr/local/lib/python3.10/dist-packages (from pandas==1.5.0) (1.25.2)\n",
            "Requirement already satisfied: six>=1.5 in /usr/local/lib/python3.10/dist-packages (from python-dateutil>=2.8.1->pandas==1.5.0) (1.16.0)\n",
            "Installing collected packages: pandas\n",
            "  Attempting uninstall: pandas\n",
            "    Found existing installation: pandas 2.0.3\n",
            "    Uninstalling pandas-2.0.3:\n",
            "      Successfully uninstalled pandas-2.0.3\n",
            "\u001b[31mERROR: pip's dependency resolver does not currently take into account all the packages that are installed. This behaviour is the source of the following dependency conflicts.\n",
            "cudf-cu12 24.4.1 requires pandas<2.2.2dev0,>=2.0, but you have pandas 1.5.0 which is incompatible.\n",
            "google-colab 1.0.0 requires pandas==2.0.3, but you have pandas 1.5.0 which is incompatible.\u001b[0m\u001b[31m\n",
            "\u001b[0mSuccessfully installed pandas-1.5.0\n",
            "Requirement already satisfied: scikit-learn in /usr/local/lib/python3.10/dist-packages (1.2.2)\n",
            "Requirement already satisfied: numpy>=1.17.3 in /usr/local/lib/python3.10/dist-packages (from scikit-learn) (1.25.2)\n",
            "Requirement already satisfied: scipy>=1.3.2 in /usr/local/lib/python3.10/dist-packages (from scikit-learn) (1.11.4)\n",
            "Requirement already satisfied: joblib>=1.1.1 in /usr/local/lib/python3.10/dist-packages (from scikit-learn) (1.4.2)\n",
            "Requirement already satisfied: threadpoolctl>=2.0.0 in /usr/local/lib/python3.10/dist-packages (from scikit-learn) (3.5.0)\n",
            "Requirement already satisfied: tensorflow in /usr/local/lib/python3.10/dist-packages (2.15.0)\n",
            "Collecting tensorflow\n",
            "  Downloading tensorflow-2.16.2-cp310-cp310-manylinux_2_17_x86_64.manylinux2014_x86_64.whl (590.6 MB)\n",
            "\u001b[2K     \u001b[90m━━━━━━━━━━━━━━━━━━━━━━━━━━━━━━━━━━━━━━━━\u001b[0m \u001b[32m590.6/590.6 MB\u001b[0m \u001b[31m1.5 MB/s\u001b[0m eta \u001b[36m0:00:00\u001b[0m\n",
            "\u001b[?25hRequirement already satisfied: absl-py>=1.0.0 in /usr/local/lib/python3.10/dist-packages (from tensorflow) (1.4.0)\n",
            "Requirement already satisfied: astunparse>=1.6.0 in /usr/local/lib/python3.10/dist-packages (from tensorflow) (1.6.3)\n",
            "Requirement already satisfied: flatbuffers>=23.5.26 in /usr/local/lib/python3.10/dist-packages (from tensorflow) (24.3.25)\n",
            "Requirement already satisfied: gast!=0.5.0,!=0.5.1,!=0.5.2,>=0.2.1 in /usr/local/lib/python3.10/dist-packages (from tensorflow) (0.6.0)\n",
            "Requirement already satisfied: google-pasta>=0.1.1 in /usr/local/lib/python3.10/dist-packages (from tensorflow) (0.2.0)\n",
            "Collecting h5py>=3.10.0 (from tensorflow)\n",
            "  Downloading h5py-3.11.0-cp310-cp310-manylinux_2_17_x86_64.manylinux2014_x86_64.whl (5.3 MB)\n",
            "\u001b[2K     \u001b[90m━━━━━━━━━━━━━━━━━━━━━━━━━━━━━━━━━━━━━━━━\u001b[0m \u001b[32m5.3/5.3 MB\u001b[0m \u001b[31m50.3 MB/s\u001b[0m eta \u001b[36m0:00:00\u001b[0m\n",
            "\u001b[?25hRequirement already satisfied: libclang>=13.0.0 in /usr/local/lib/python3.10/dist-packages (from tensorflow) (18.1.1)\n",
            "Collecting ml-dtypes~=0.3.1 (from tensorflow)\n",
            "  Downloading ml_dtypes-0.3.2-cp310-cp310-manylinux_2_17_x86_64.manylinux2014_x86_64.whl (2.2 MB)\n",
            "\u001b[2K     \u001b[90m━━━━━━━━━━━━━━━━━━━━━━━━━━━━━━━━━━━━━━━━\u001b[0m \u001b[32m2.2/2.2 MB\u001b[0m \u001b[31m43.4 MB/s\u001b[0m eta \u001b[36m0:00:00\u001b[0m\n",
            "\u001b[?25hRequirement already satisfied: opt-einsum>=2.3.2 in /usr/local/lib/python3.10/dist-packages (from tensorflow) (3.3.0)\n",
            "Requirement already satisfied: packaging in /usr/local/lib/python3.10/dist-packages (from tensorflow) (24.1)\n",
            "Requirement already satisfied: protobuf!=4.21.0,!=4.21.1,!=4.21.2,!=4.21.3,!=4.21.4,!=4.21.5,<5.0.0dev,>=3.20.3 in /usr/local/lib/python3.10/dist-packages (from tensorflow) (3.20.3)\n",
            "Requirement already satisfied: requests<3,>=2.21.0 in /usr/local/lib/python3.10/dist-packages (from tensorflow) (2.31.0)\n",
            "Requirement already satisfied: setuptools in /usr/local/lib/python3.10/dist-packages (from tensorflow) (67.7.2)\n",
            "Requirement already satisfied: six>=1.12.0 in /usr/local/lib/python3.10/dist-packages (from tensorflow) (1.16.0)\n",
            "Requirement already satisfied: termcolor>=1.1.0 in /usr/local/lib/python3.10/dist-packages (from tensorflow) (2.4.0)\n",
            "Requirement already satisfied: typing-extensions>=3.6.6 in /usr/local/lib/python3.10/dist-packages (from tensorflow) (4.12.2)\n",
            "Requirement already satisfied: wrapt>=1.11.0 in /usr/local/lib/python3.10/dist-packages (from tensorflow) (1.14.1)\n",
            "Requirement already satisfied: grpcio<2.0,>=1.24.3 in /usr/local/lib/python3.10/dist-packages (from tensorflow) (1.64.1)\n",
            "Collecting tensorboard<2.17,>=2.16 (from tensorflow)\n",
            "  Downloading tensorboard-2.16.2-py3-none-any.whl (5.5 MB)\n",
            "\u001b[2K     \u001b[90m━━━━━━━━━━━━━━━━━━━━━━━━━━━━━━━━━━━━━━━━\u001b[0m \u001b[32m5.5/5.5 MB\u001b[0m \u001b[31m47.7 MB/s\u001b[0m eta \u001b[36m0:00:00\u001b[0m\n",
            "\u001b[?25hCollecting keras>=3.0.0 (from tensorflow)\n",
            "  Downloading keras-3.4.1-py3-none-any.whl (1.1 MB)\n",
            "\u001b[2K     \u001b[90m━━━━━━━━━━━━━━━━━━━━━━━━━━━━━━━━━━━━━━━━\u001b[0m \u001b[32m1.1/1.1 MB\u001b[0m \u001b[31m27.6 MB/s\u001b[0m eta \u001b[36m0:00:00\u001b[0m\n",
            "\u001b[?25hRequirement already satisfied: tensorflow-io-gcs-filesystem>=0.23.1 in /usr/local/lib/python3.10/dist-packages (from tensorflow) (0.37.0)\n",
            "Requirement already satisfied: numpy<2.0.0,>=1.23.5 in /usr/local/lib/python3.10/dist-packages (from tensorflow) (1.25.2)\n",
            "Requirement already satisfied: wheel<1.0,>=0.23.0 in /usr/local/lib/python3.10/dist-packages (from astunparse>=1.6.0->tensorflow) (0.43.0)\n",
            "Requirement already satisfied: rich in /usr/local/lib/python3.10/dist-packages (from keras>=3.0.0->tensorflow) (13.7.1)\n",
            "Collecting namex (from keras>=3.0.0->tensorflow)\n",
            "  Downloading namex-0.0.8-py3-none-any.whl (5.8 kB)\n",
            "Collecting optree (from keras>=3.0.0->tensorflow)\n",
            "  Downloading optree-0.11.0-cp310-cp310-manylinux_2_17_x86_64.manylinux2014_x86_64.whl (311 kB)\n",
            "\u001b[2K     \u001b[90m━━━━━━━━━━━━━━━━━━━━━━━━━━━━━━━━━━━━━━━━\u001b[0m \u001b[32m311.2/311.2 kB\u001b[0m \u001b[31m16.8 MB/s\u001b[0m eta \u001b[36m0:00:00\u001b[0m\n",
            "\u001b[?25hRequirement already satisfied: charset-normalizer<4,>=2 in /usr/local/lib/python3.10/dist-packages (from requests<3,>=2.21.0->tensorflow) (3.3.2)\n",
            "Requirement already satisfied: idna<4,>=2.5 in /usr/local/lib/python3.10/dist-packages (from requests<3,>=2.21.0->tensorflow) (3.7)\n",
            "Requirement already satisfied: urllib3<3,>=1.21.1 in /usr/local/lib/python3.10/dist-packages (from requests<3,>=2.21.0->tensorflow) (2.0.7)\n",
            "Requirement already satisfied: certifi>=2017.4.17 in /usr/local/lib/python3.10/dist-packages (from requests<3,>=2.21.0->tensorflow) (2024.6.2)\n",
            "Requirement already satisfied: markdown>=2.6.8 in /usr/local/lib/python3.10/dist-packages (from tensorboard<2.17,>=2.16->tensorflow) (3.6)\n",
            "Requirement already satisfied: tensorboard-data-server<0.8.0,>=0.7.0 in /usr/local/lib/python3.10/dist-packages (from tensorboard<2.17,>=2.16->tensorflow) (0.7.2)\n",
            "Requirement already satisfied: werkzeug>=1.0.1 in /usr/local/lib/python3.10/dist-packages (from tensorboard<2.17,>=2.16->tensorflow) (3.0.3)\n",
            "Requirement already satisfied: MarkupSafe>=2.1.1 in /usr/local/lib/python3.10/dist-packages (from werkzeug>=1.0.1->tensorboard<2.17,>=2.16->tensorflow) (2.1.5)\n",
            "Requirement already satisfied: markdown-it-py>=2.2.0 in /usr/local/lib/python3.10/dist-packages (from rich->keras>=3.0.0->tensorflow) (3.0.0)\n",
            "Requirement already satisfied: pygments<3.0.0,>=2.13.0 in /usr/local/lib/python3.10/dist-packages (from rich->keras>=3.0.0->tensorflow) (2.16.1)\n",
            "Requirement already satisfied: mdurl~=0.1 in /usr/local/lib/python3.10/dist-packages (from markdown-it-py>=2.2.0->rich->keras>=3.0.0->tensorflow) (0.1.2)\n",
            "Installing collected packages: namex, optree, ml-dtypes, h5py, tensorboard, keras, tensorflow\n",
            "  Attempting uninstall: ml-dtypes\n",
            "    Found existing installation: ml-dtypes 0.2.0\n",
            "    Uninstalling ml-dtypes-0.2.0:\n",
            "      Successfully uninstalled ml-dtypes-0.2.0\n",
            "  Attempting uninstall: h5py\n",
            "    Found existing installation: h5py 3.9.0\n",
            "    Uninstalling h5py-3.9.0:\n",
            "      Successfully uninstalled h5py-3.9.0\n",
            "  Attempting uninstall: tensorboard\n",
            "    Found existing installation: tensorboard 2.15.2\n",
            "    Uninstalling tensorboard-2.15.2:\n",
            "      Successfully uninstalled tensorboard-2.15.2\n",
            "  Attempting uninstall: keras\n",
            "    Found existing installation: keras 2.15.0\n",
            "    Uninstalling keras-2.15.0:\n",
            "      Successfully uninstalled keras-2.15.0\n",
            "  Attempting uninstall: tensorflow\n",
            "    Found existing installation: tensorflow 2.15.0\n",
            "    Uninstalling tensorflow-2.15.0:\n",
            "      Successfully uninstalled tensorflow-2.15.0\n",
            "\u001b[31mERROR: pip's dependency resolver does not currently take into account all the packages that are installed. This behaviour is the source of the following dependency conflicts.\n",
            "tf-keras 2.15.1 requires tensorflow<2.16,>=2.15, but you have tensorflow 2.16.2 which is incompatible.\u001b[0m\u001b[31m\n",
            "\u001b[0mSuccessfully installed h5py-3.11.0 keras-3.4.1 ml-dtypes-0.3.2 namex-0.0.8 optree-0.11.0 tensorboard-2.16.2 tensorflow-2.16.2\n",
            "Requirement already satisfied: keras in /usr/local/lib/python3.10/dist-packages (3.4.1)\n",
            "Requirement already satisfied: absl-py in /usr/local/lib/python3.10/dist-packages (from keras) (1.4.0)\n",
            "Requirement already satisfied: numpy in /usr/local/lib/python3.10/dist-packages (from keras) (1.25.2)\n",
            "Requirement already satisfied: rich in /usr/local/lib/python3.10/dist-packages (from keras) (13.7.1)\n",
            "Requirement already satisfied: namex in /usr/local/lib/python3.10/dist-packages (from keras) (0.0.8)\n",
            "Requirement already satisfied: h5py in /usr/local/lib/python3.10/dist-packages (from keras) (3.11.0)\n",
            "Requirement already satisfied: optree in /usr/local/lib/python3.10/dist-packages (from keras) (0.11.0)\n",
            "Requirement already satisfied: ml-dtypes in /usr/local/lib/python3.10/dist-packages (from keras) (0.3.2)\n",
            "Requirement already satisfied: packaging in /usr/local/lib/python3.10/dist-packages (from keras) (24.1)\n",
            "Requirement already satisfied: typing-extensions>=4.0.0 in /usr/local/lib/python3.10/dist-packages (from optree->keras) (4.12.2)\n",
            "Requirement already satisfied: markdown-it-py>=2.2.0 in /usr/local/lib/python3.10/dist-packages (from rich->keras) (3.0.0)\n",
            "Requirement already satisfied: pygments<3.0.0,>=2.13.0 in /usr/local/lib/python3.10/dist-packages (from rich->keras) (2.16.1)\n",
            "Requirement already satisfied: mdurl~=0.1 in /usr/local/lib/python3.10/dist-packages (from markdown-it-py>=2.2.0->rich->keras) (0.1.2)\n"
          ]
        }
      ]
    },
    {
      "cell_type": "code",
      "source": [
        "# !pip list\n"
      ],
      "metadata": {
        "collapsed": true,
        "id": "NevaGbWKG80P"
      },
      "execution_count": 2,
      "outputs": []
    },
    {
      "cell_type": "code",
      "execution_count": 3,
      "metadata": {
        "collapsed": true,
        "id": "-1d79tkY_J0I"
      },
      "outputs": [],
      "source": [
        "import os\n",
        "import glob\n",
        "import argparse\n",
        "import tensorflow as tf\n",
        "from sklearn.preprocessing import StandardScaler\n",
        "from sklearn.model_selection import train_test_split\n",
        "\n",
        "# Use TensorFlow's Keras API\n",
        "from tensorflow.keras.optimizers import RMSprop, SGD, Adam\n",
        "from tensorflow.keras.callbacks import EarlyStopping, ModelCheckpoint, TensorBoard, ReduceLROnPlateau, TerminateOnNaN\n",
        "import tensorflow.keras.backend as K\n",
        "\n",
        "import tensorflow as tf\n",
        "from tensorflow.keras.layers import Input, Dense, Concatenate, BatchNormalization, Dropout\n",
        "from tensorflow.keras.models import Model\n",
        "from tensorflow.keras import regularizers\n",
        "from tensorflow.keras.metrics import binary_accuracy\n",
        "from tensorflow.keras.layers import Layer\n",
        "\n",
        "# For using Keras backend functions directly\n",
        "import tensorflow.keras.backend as K\n",
        "\n",
        "import copy\n",
        "\n",
        "from numpy import load\n",
        "\n",
        "import numpy as np\n",
        "from scipy.special import logit, expit\n",
        "from scipy.optimize import minimize\n",
        "import pandas as pd\n"
      ]
    },
    {
      "cell_type": "markdown",
      "source": [
        "#Dataset\n"
      ],
      "metadata": {
        "id": "K0QdauaMlEb4"
      }
    },
    {
      "cell_type": "markdown",
      "source": [
        "## Data Description\n",
        "\n",
        "The Infant Health and Development Program (IHDP) is a randomized controlled study designed to evaluate **the effect of home visit from specialist doctors on the cognitive test scores of premature infants**. The datasets is first used for benchmarking treatment effect estimation algorithms in Hill [1], where selection bias is induced by removing non-random subsets of the treated individuals to create an observational dataset, and the outcomes are generated using the original covariates and treatments.\n",
        "\n",
        "The study uses 1000 realizations from the NPCI package, and data has 747 observations."
      ],
      "metadata": {
        "id": "qQ6vWylupFev"
      }
    },
    {
      "cell_type": "markdown",
      "source": [
        "## Import Data and extract treatment, covariates and outcomes\n",
        "\n",
        "\n",
        "\n",
        "\n",
        "\n",
        "> **Due to time constraints, this tutorial uses only 5 replications of the IHDP data, demonstrating the model's concept rather than providing precise replication of the study's results.**\n",
        "\n",
        "\n"
      ],
      "metadata": {
        "id": "0bRh1hmIFpUd"
      }
    },
    {
      "cell_type": "code",
      "source": [
        "from google.colab import drive\n",
        "drive.mount('/content/drive')\n",
        "DRAGONNET_DIR = '/content/drive/MyDrive/Dragonnet_SPPH'\n",
        "DATA_BASE_DIR = os.path.join(DRAGONNET_DIR, 'dat/ihdp/csv')\n",
        "print(DATA_BASE_DIR)"
      ],
      "metadata": {
        "colab": {
          "base_uri": "https://localhost:8080/"
        },
        "id": "Lw5T6qgElF7k",
        "outputId": "f366c7b5-d1b0-45e2-b6fb-361d63f4cfe1"
      },
      "execution_count": 4,
      "outputs": [
        {
          "output_type": "stream",
          "name": "stdout",
          "text": [
            "Drive already mounted at /content/drive; to attempt to forcibly remount, call drive.mount(\"/content/drive\", force_remount=True).\n",
            "/content/drive/MyDrive/Dragonnet_SPPH/dat/ihdp/csv\n"
          ]
        }
      ]
    },
    {
      "cell_type": "code",
      "source": [
        "def load_and_format_covariates_ihdp(file_path):\n",
        "\n",
        "    data = np.loadtxt(file_path, delimiter=',')\n",
        "\n",
        "    binfeats = [6, 7, 8, 9, 10, 11, 12, 13, 14, 15, 16, 17, 18, 19, 20, 21, 22, 23, 24]\n",
        "    contfeats = [i for i in range(25) if i not in binfeats]\n",
        "\n",
        "    mu_0, mu_1, x = data[:, 3][:, None], data[:, 4][:, None], data[:, 5:]\n",
        "    perm = binfeats + contfeats\n",
        "    x = x[:, perm]\n",
        "    return x\n",
        "\n",
        "\n",
        "def load_all_other_crap(file_path):\n",
        "    data = np.loadtxt(file_path, delimiter=',')\n",
        "    t, y, y_cf = data[:, 0], data[:, 1][:, None], data[:, 2][:, None]\n",
        "    mu_0, mu_1, x = data[:, 3][:, None], data[:, 4][:, None], data[:, 5:]\n",
        "    return t.reshape(-1, 1), y, y_cf, mu_0, mu_1\n",
        "\n"
      ],
      "metadata": {
        "id": "3d0BMbl2AvFe"
      },
      "execution_count": 5,
      "outputs": []
    },
    {
      "cell_type": "code",
      "source": [
        "simulation_files = sorted(glob.glob(\"{}/*.csv\".format(DATA_BASE_DIR)))\n",
        "print(simulation_files)\n",
        "\n",
        "# Specify the folder name\n",
        "clean_data_dir = '/content/data_ihdp_clean'\n",
        "\n",
        "if not os.path.exists(clean_data_dir):\n",
        "    os.makedirs(clean_data_dir)\n",
        "    print(\"Folder created:\", clean_data_dir)\n",
        "else:\n",
        "    print(\"Folder already exists:\", clean_data_dir)\n",
        "\n",
        "for idx, simulation_file in enumerate(simulation_files):\n",
        "  # x (covariates), t (treatment), y (factual outcome), y_cf (counterfactual outcome),\n",
        "  # mu_0, mu_1 (noiseless potential outcomes)\n",
        "  x = load_and_format_covariates_ihdp(simulation_file)\n",
        "  t, y, y_cf, mu_0, mu_1 = load_all_other_crap(simulation_file)\n",
        "  np.savez_compressed(os.path.join(clean_data_dir, f\"simulation_{idx}\"),\n",
        "                      x=x, t=t, y=y, y_cf=y_cf, mu_0=mu_0, mu_1=mu_1)\n",
        "\n"
      ],
      "metadata": {
        "colab": {
          "base_uri": "https://localhost:8080/"
        },
        "id": "a2D4hBdwBWRb",
        "outputId": "524b2efc-80db-4930-b695-aac606151edb"
      },
      "execution_count": 6,
      "outputs": [
        {
          "output_type": "stream",
          "name": "stdout",
          "text": [
            "['/content/drive/MyDrive/Dragonnet_SPPH/dat/ihdp/csv/ihdp_npci_1.csv', '/content/drive/MyDrive/Dragonnet_SPPH/dat/ihdp/csv/ihdp_npci_2.csv', '/content/drive/MyDrive/Dragonnet_SPPH/dat/ihdp/csv/ihdp_npci_3.csv', '/content/drive/MyDrive/Dragonnet_SPPH/dat/ihdp/csv/ihdp_npci_4.csv', '/content/drive/MyDrive/Dragonnet_SPPH/dat/ihdp/csv/ihdp_npci_5.csv']\n",
            "Folder created: /content/data_ihdp_clean\n"
          ]
        }
      ]
    },
    {
      "cell_type": "markdown",
      "source": [
        "## Data analysis"
      ],
      "metadata": {
        "id": "RpQrk7Iqn6R7"
      }
    },
    {
      "cell_type": "markdown",
      "source": [
        "### Variables Description\n",
        "\n",
        "- **x**: Covariates - These are the independent variables used in the analysis.\n",
        "- **t**: Treatment - This indicates whether the treatment was applied or not.\n",
        "- **y**: Factual Outcome - The outcome observed under the treatment or control given to the subject.\n",
        "- **y_cf**: Counterfactual Outcome - The hypothetical outcome that would have been observed had the subject received the opposite treatment. *[not used in this study]*\n",
        "- **mu_0**: Noiseless Potential Outcome (Control) - The estimated outcome if the subject did not receive the treatment.\n",
        "- **mu_1**: Noiseless Potential Outcome (Treatment) - The estimated outcome if the subject did receive the treatment.\n",
        "\n"
      ],
      "metadata": {
        "id": "iT0iuhZ0V_DH"
      }
    },
    {
      "cell_type": "code",
      "source": [
        "def summarize_datasets(data_base_dir):\n",
        "    simulation_files = sorted(glob.glob(f\"{data_base_dir}/*.npz\"))\n",
        "    summary = []\n",
        "\n",
        "    for idx, simulation_file in enumerate(simulation_files):\n",
        "        # Load data from the .npz file\n",
        "        with np.load(simulation_file) as data:\n",
        "            summary_info = {\n",
        "                'File': os.path.basename(simulation_file),\n",
        "                'Num_Observations': data['x'].shape[0],\n",
        "                'Variables': list(data.files)\n",
        "            }\n",
        "\n",
        "            stats = {}\n",
        "            for key in data.files:\n",
        "                array = data[key]\n",
        "                stats[key] = {\n",
        "                    'Min': np.min(array),\n",
        "                    'Max': np.max(array),\n",
        "                    'Mean': np.mean(array),\n",
        "                    'Std': np.std(array)\n",
        "                }\n",
        "\n",
        "            summary_info['Summary_Stats'] = stats\n",
        "            summary.append(summary_info)\n",
        "\n",
        "    return summary\n",
        "\n",
        "# Usage\n",
        "data_base_dir = '/content/data_ihdp_clean'  # Adjust as necessary\n",
        "dataset_summary = summarize_datasets(data_base_dir)\n",
        "for file_summary in dataset_summary:\n",
        "    print(\"File:\", file_summary['File'])\n",
        "    print(\"Number of Observations:\", file_summary['Num_Observations'])\n",
        "    for var, stats in file_summary['Summary_Stats'].items():\n",
        "        print(f\"{var} - Min: {stats['Min']}, Max: {stats['Max']}, Mean: {stats['Mean']:.2f}, Std: {stats['Std']:.2f}\")\n",
        "    print(\"\\n\")"
      ],
      "metadata": {
        "id": "VDJcrQO0JHz1",
        "colab": {
          "base_uri": "https://localhost:8080/"
        },
        "outputId": "cfdd9b7b-b126-41ff-f025-102c1529418c"
      },
      "execution_count": 7,
      "outputs": [
        {
          "output_type": "stream",
          "name": "stdout",
          "text": [
            "File: simulation_0.npz\n",
            "Number of Observations: 747\n",
            "x - Min: -5.13042776464339, Max: 2.99036883104816, Mean: 0.29, Std: 0.70\n",
            "t - Min: 0.0, Max: 1.0, Mean: 0.19, Std: 0.39\n",
            "y - Min: -1.54390231866209, Max: 11.2682277695966, Mean: 3.16, Std: 2.18\n",
            "y_cf - Min: -1.03762755274036, Max: 10.17100383354, Mean: 5.70, Std: 1.98\n",
            "mu_0 - Min: 0.924453299405036, Max: 9.82179228262831, Mean: 2.43, Std: 1.28\n",
            "mu_1 - Min: 5.59164731549982, Max: 7.95480367858421, Mean: 6.45, Std: 0.45\n",
            "\n",
            "\n",
            "File: simulation_1.npz\n",
            "Number of Observations: 747\n",
            "x - Min: -5.13042776464339, Max: 2.99036883104816, Mean: 0.29, Std: 0.70\n",
            "t - Min: 0.0, Max: 1.0, Mean: 0.19, Std: 0.39\n",
            "y - Min: 0.752065610550019, Max: 10.9136260076176, Mean: 5.02, Std: 2.09\n",
            "y_cf - Min: 1.34851563310086, Max: 11.1649051337305, Mean: 7.54, Std: 1.93\n",
            "mu_0 - Min: 2.50180296062162, Max: 9.13922520956693, Mean: 4.24, Std: 1.05\n",
            "mu_1 - Min: 7.79380038854291, Max: 9.08936434502746, Mean: 8.29, Std: 0.23\n",
            "\n",
            "\n",
            "File: simulation_2.npz\n",
            "Number of Observations: 747\n",
            "x - Min: -5.13042776464339, Max: 2.99036883104816, Mean: 0.29, Std: 0.70\n",
            "t - Min: 0.0, Max: 1.0, Mean: 0.19, Std: 0.39\n",
            "y - Min: -1.85234046226325, Max: 11.7164389096312, Mean: 4.05, Std: 2.28\n",
            "y_cf - Min: 0.774030616586998, Max: 10.8954292743287, Mean: 6.73, Std: 1.87\n",
            "mu_0 - Min: 0.624796671767995, Max: 10.8934424996771, Mean: 3.35, Std: 1.32\n",
            "mu_1 - Min: 5.85349395025791, Max: 8.71198396026823, Mean: 7.45, Std: 0.43\n",
            "\n",
            "\n",
            "File: simulation_3.npz\n",
            "Number of Observations: 747\n",
            "x - Min: -5.13042776464339, Max: 2.99036883104816, Mean: 0.29, Std: 0.70\n",
            "t - Min: 0.0, Max: 1.0, Mean: 0.19, Std: 0.39\n",
            "y - Min: 1.46059787654939, Max: 19.0999561486574, Mean: 8.80, Std: 2.79\n",
            "y_cf - Min: 3.2764493547603, Max: 20.2065908829941, Mean: 11.59, Std: 2.07\n",
            "mu_0 - Min: 3.33497460787722, Max: 19.4420864186415, Mean: 8.06, Std: 2.19\n",
            "mu_1 - Min: 11.4883740754247, Max: 13.2513491292511, Mean: 12.34, Std: 0.26\n",
            "\n",
            "\n",
            "File: simulation_4.npz\n",
            "Number of Observations: 747\n",
            "x - Min: -5.13042776464339, Max: 2.99036883104816, Mean: 0.29, Std: 0.70\n",
            "t - Min: 0.0, Max: 1.0, Mean: 0.19, Std: 0.39\n",
            "y - Min: 0.548590472843633, Max: 19.088901079604, Mean: 7.78, Std: 3.29\n",
            "y_cf - Min: 2.16521660044636, Max: 20.9351453801133, Mean: 10.50, Std: 2.36\n",
            "mu_0 - Min: 1.54940847935454, Max: 20.8672539939762, Mean: 7.05, Std: 3.01\n",
            "mu_1 - Min: 9.78198671954085, Max: 12.3822946233884, Mean: 11.21, Std: 0.42\n",
            "\n",
            "\n"
          ]
        }
      ]
    },
    {
      "cell_type": "markdown",
      "source": [
        "# Motivation\n",
        "\n",
        "* Improve the estimation of treatment effects from observational data using neural networks.\n",
        "\n",
        "* Address the challenge of potential confounding factors that can lead to incorrect causal conclusions if not properly adjusted for.\n",
        "\n",
        "Two NN designs are invented to improve the quality of treatment effect estimates:\n",
        "\n",
        "1. Dragonnet Architecture: This new neural network architecture **utilizes the sufficiency of the propensity score** for causal estimation, aiming to better adjust for confounding factors in the estimation process.\n",
        "\n",
        "2. Targeted Regularization: This is a regularization procedure that helps **induce a bias towards models with non-parametrically optimal asymptotic properties**, enhancing the estimation quality of treatment effects.\n",
        "\n",
        "These adaptations are based on insights from statistical literature on treatment effect estimation and are intended to outperform existing methods.\n",
        "\n",
        "\n",
        "\n",
        "\n",
        "\n",
        "\n",
        "\n",
        "# The two steps for using neural networks to estimate treatment effects:\n",
        "\n",
        "1. Fit models for the conditional outcome and the propensity score.\n",
        "2. Plug predictions from the models into a dowstream estimator\n"
      ],
      "metadata": {
        "id": "6jmMTfodJIPv"
      }
    },
    {
      "cell_type": "markdown",
      "source": [
        "# Step 1: Model for the conditional outcome and the propensity score\n",
        "\n",
        "- The model for the conditional outcome:\n",
        "$$\n",
        "Q(t, x) = \\mathbb{E}[Y \\mid t, x]\n",
        "$$\n",
        "where \\( Q(t, x) \\) represents the expected value of the outcome \\( Y \\) given the treatment \\( t \\) and covariates \\( x \\).\n",
        "\n",
        "- The model for the propensity score:\n",
        "$$\n",
        "g(x) = P(T = 1 \\mid x)\n",
        "$$\n",
        "where \\( g(x) \\) estimates the probability of receiving the treatment given the covariates \\( x \\).\n",
        "\n",
        "\n",
        "#### Proposed models\n",
        "\n",
        "*  Dragonnet\n",
        "*  Dragonnet + targeted regularization\n",
        "\n",
        "\n",
        "\n",
        "---\n",
        "\n",
        "General steps for each of the model will be:\n",
        "1.   Make the model by defining model architecture\n",
        "2.   train/fit the model\n",
        "3.   make predictions\n",
        "4.   store the predicted outputs ŷ_0, ŷ_1 and ĝ\n",
        "\n",
        "\n"
      ],
      "metadata": {
        "id": "g0NruSJ-GIof"
      }
    },
    {
      "cell_type": "markdown",
      "source": [
        "## 🐲 Dragonnet"
      ],
      "metadata": {
        "id": "q7lP4ws6Jwzo"
      }
    },
    {
      "cell_type": "markdown",
      "source": [
        "### 1. Model architecture"
      ],
      "metadata": {
        "id": "idAzMdN8FnY9"
      }
    },
    {
      "cell_type": "markdown",
      "source": [
        "![image.png](data:image/png;base64,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)"
      ],
      "metadata": {
        "id": "hBHtvsjPXMp-"
      }
    },
    {
      "cell_type": "code",
      "source": [
        "def make_dragonnet(input_dim, reg_l2):\n",
        "\n",
        "    inputs = Input(shape=(input_dim,), name='input')\n",
        "\n",
        "    # representation\n",
        "    x = Dense(units=200, activation='elu', kernel_initializer='RandomNormal')(inputs)\n",
        "    x = Dense(units=200, activation='elu', kernel_initializer='RandomNormal')(x)\n",
        "    x = Dense(units=200, activation='elu', kernel_initializer='RandomNormal')(x)\n",
        "\n",
        "    # t_predictions = Dense(units=1, activation='sigmoid')(inputs)\n",
        "    # ***** (3) propensity score g layer ****\n",
        "    t_predictions = Dense(units=1, activation='sigmoid')(x)\n",
        "\n",
        "    # HYPOTHESIS\n",
        "    y0_hidden = Dense(units=100, activation='elu', kernel_regularizer=regularizers.l2(reg_l2))(x)\n",
        "    y1_hidden = Dense(units=100, activation='elu', kernel_regularizer=regularizers.l2(reg_l2))(x)\n",
        "\n",
        "    # second layer\n",
        "    y0_hidden = Dense(units=100, activation='elu', kernel_regularizer=regularizers.l2(reg_l2))(y0_hidden)\n",
        "    y1_hidden = Dense(units=100, activation='elu', kernel_regularizer=regularizers.l2(reg_l2))(y1_hidden)\n",
        "\n",
        "    # third\n",
        "    y0_predictions = Dense(units=1, activation=None, kernel_regularizer=regularizers.l2(reg_l2), name='y0_predictions')(\n",
        "        y0_hidden)\n",
        "    y1_predictions = Dense(units=1, activation=None, kernel_regularizer=regularizers.l2(reg_l2), name='y1_predictions')(\n",
        "        y1_hidden)\n",
        "\n",
        "    concat_pred = Concatenate(1)([y0_predictions, y1_predictions, t_predictions])\n",
        "\n",
        "    model = Model(inputs=inputs, outputs=concat_pred)\n",
        "\n",
        "    return model\n",
        "\n"
      ],
      "metadata": {
        "id": "vpGpOCdzYQmP"
      },
      "execution_count": 43,
      "outputs": []
    },
    {
      "cell_type": "markdown",
      "source": [
        "### 2. fit model"
      ],
      "metadata": {
        "id": "ZDtEp-ReYeXr"
      }
    },
    {
      "cell_type": "markdown",
      "source": [
        "\n",
        "The loss function (the objective function) is defined and dependent on the two terms:\n",
        "* Mean squared error for regression tasks, in this case the outcome model.\n",
        "* Cross-entropy loss for classification tasks, in this case the exposure model (proensity score prediction).\n",
        "\n",
        "\n",
        "---\n",
        "\n",
        "\n",
        "![image.png](data:image/png;base64,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)"
      ],
      "metadata": {
        "id": "lhY3mIc8XULf"
      }
    },
    {
      "cell_type": "code",
      "source": [
        "# Define the loss functions\n",
        "# minimize errors/loss for propensity score prediction (for exposure model)\n",
        "def binary_classification_loss(concat_true, concat_pred):\n",
        "    t_true = concat_true[:, 1]\n",
        "    t_pred = concat_pred[:, 2]\n",
        "    # stabilizing the training process by avoiding issues with logarithmic calculations\n",
        "    # in the next step (binary cross-entropy)\n",
        "    t_pred = (t_pred + 0.001) / 1.002\n",
        "    # Binary cross-entropy loss is a common choice for binary classification tasks\n",
        "    # it measures the \"distance\" between the actual t and the predicted t\n",
        "    losst = tf.reduce_sum(K.binary_crossentropy(t_true, t_pred))\n",
        "\n",
        "    return losst\n",
        "\n",
        "# minimize prediction errors separately for treated and untreated groups(for outcome model)\n",
        "def regression_loss(concat_true, concat_pred):\n",
        "    y_true = concat_true[:, 0]\n",
        "    t_true = concat_true[:, 1]\n",
        "\n",
        "    y0_pred = concat_pred[:, 0]\n",
        "    y1_pred = concat_pred[:, 1]\n",
        "\n",
        "    loss0 = tf.reduce_sum((1. - t_true) * tf.square(y_true - y0_pred))\n",
        "    loss1 = tf.reduce_sum(t_true * tf.square(y_true - y1_pred))\n",
        "\n",
        "    return loss0 + loss1\n",
        "\n",
        "\n",
        "# minimize both the prediction error for outcome + exposure models.\n",
        "def dragonnet_loss_binarycross(concat_true, concat_pred):\n",
        "    return regression_loss(concat_true, concat_pred) + binary_classification_loss(concat_true, concat_pred)\n",
        "\n",
        "\n",
        "def treatment_accuracy(concat_true, concat_pred):\n",
        "    t_true = concat_true[:, 1]\n",
        "    t_pred = concat_pred[:, 2]\n",
        "    return tf.keras.metrics.binary_accuracy(t_true, t_pred)\n",
        "\n",
        "\n",
        "\n"
      ],
      "metadata": {
        "id": "tYnJ580XFnY_"
      },
      "execution_count": 44,
      "outputs": []
    },
    {
      "cell_type": "code",
      "source": [
        "# Define metrics\n",
        "metrics = [regression_loss, binary_classification_loss, treatment_accuracy]"
      ],
      "metadata": {
        "id": "wbRv9vtDFnY_"
      },
      "execution_count": 45,
      "outputs": []
    },
    {
      "cell_type": "code",
      "source": [
        "# Helper function to split and format the predicted output later\n",
        "def _split_output(yt_hat, t, y, y_scaler, x, index):\n",
        "    q_t0 = y_scaler.inverse_transform(yt_hat[:, 0].reshape(-1, 1))\n",
        "    q_t1 = y_scaler.inverse_transform(yt_hat[:, 1].reshape(-1, 1))\n",
        "    g = yt_hat[:, 2].copy()\n",
        "\n",
        "    if yt_hat.shape[1] == 4:\n",
        "        eps = yt_hat[:, 3][0]\n",
        "        print('eps is trained')\n",
        "    else:\n",
        "        eps = np.zeros_like(yt_hat[:, 2])\n",
        "        print('eps will be zero')\n",
        "\n",
        "    y = y_scaler.inverse_transform(y.copy())\n",
        "    var = \"average propensity for treated: {} and untreated: {}\".format(g[t.squeeze() == 1.].mean(),\n",
        "                                                                        g[t.squeeze() == 0.].mean())\n",
        "    print(var)\n",
        "\n",
        "    # q_t0,q_t1 -> predicted outcomes under (0,1) treatment\n",
        "    # g -> predicted propensity score\n",
        "    # t -> treatment\n",
        "    # y -> original y before transformation\n",
        "    # index\n",
        "    # eps -> epsilon\n",
        "    return {'q_t0': q_t0, 'q_t1': q_t1, 'g': g, 't': t, 'y': y, 'x': x, 'index': index, 'eps': eps}\n"
      ],
      "metadata": {
        "id": "nKzrRimwFnY_"
      },
      "execution_count": 46,
      "outputs": []
    },
    {
      "cell_type": "markdown",
      "source": [
        "####Start training below\n",
        "\n",
        "> Note: the default code use all the data for prediction and estimation. If you want to get the in-sample or out-sample error:  change the train_test_split criteria.\n",
        "\n"
      ],
      "metadata": {
        "id": "tbDaYfUWFnY-"
      }
    },
    {
      "cell_type": "code",
      "source": [
        "train_outputs = []\n",
        "test_outputs = []\n",
        "all_scaled_y = []\n",
        "for idx, realization_data in enumerate(sorted(glob.glob(\"{}/*.npz\".format('/content/data_ihdp_clean')))):\n",
        "  # Prepare data for training (by default use all the data for train and prediction)\n",
        "  print(realization_data)\n",
        "  data = load(realization_data)\n",
        "  x, t, y_unscaled = data['x'], data['t'], data['y']\n",
        "  verbose = 0\n",
        "  # ********(1) Transform of Y outcome *****************\n",
        "  y_scaler = StandardScaler().fit(y_unscaled)\n",
        "  y = y_scaler.transform(y_unscaled)\n",
        "  # Collect scaled y values\n",
        "  all_scaled_y.extend(y)\n",
        "\n",
        "  i = 0\n",
        "  tf.random.set_seed(i)\n",
        "  np.random.seed(i)\n",
        "  # If you want to get the in-sample or out-sample error:\n",
        "  # i) change the train_test_split criteria\n",
        "  train_index, test_index = train_test_split(np.arange(x.shape[0]), test_size=0.01, random_state=1)\n",
        "  # ii) comment out the following: ----------\n",
        "  all_index = np.append(train_index, test_index)\n",
        "  print(\"All indices shape:\", all_index.shape)\n",
        "  test_index = all_index\n",
        "  train_index = all_index\n",
        "  # -------------------------------\n",
        "  print(\"Train indices shape:\", train_index.shape)\n",
        "  print(\"Test indices shape:\", test_index.shape)\n",
        "\n",
        "  x_train, x_test = x[train_index], x[test_index]\n",
        "  y_train, y_test = y[train_index], y[test_index]\n",
        "  t_train, t_test = t[train_index], t[test_index]\n",
        "\n",
        "  # two column matrix col1 = y,col 2 = t\n",
        "  yt_train = np.concatenate([y_train, t_train], 1)\n",
        "\n",
        "  # ********(2) Model Configuration (G-comp) ******************\n",
        "  # Each takes the number of features (x.shape[1]) and a regularization parameter (0.01) as inputs.\n",
        "  dragonnet = make_dragonnet(x.shape[1], 0.01)\n",
        "\n",
        "  # Start training\n",
        "  import time;\n",
        "  start_time = time.time()\n",
        "  val_split = 0.2\n",
        "  batch_size = 64\n",
        "  loss = dragonnet_loss_binarycross\n",
        "  metrics = metrics\n",
        "\n",
        "\n",
        "  dragonnet.compile(\n",
        "        optimizer=Adam(learning_rate=1e-3),\n",
        "        loss=loss, metrics=metrics)\n",
        "\n",
        "  adam_callbacks = [\n",
        "      TerminateOnNaN(),\n",
        "      EarlyStopping(monitor='val_loss', patience=2, min_delta=0.),\n",
        "      ReduceLROnPlateau(monitor='loss', factor=0.5, patience=5, verbose=verbose, mode='auto',\n",
        "                        min_delta=1e-8, cooldown=0, min_lr=0)\n",
        "\n",
        "  ]\n",
        "\n",
        "  dragonnet.fit(x_train, yt_train, callbacks=adam_callbacks,\n",
        "                validation_split=val_split,\n",
        "                epochs=100,\n",
        "                batch_size=batch_size, verbose=verbose)\n",
        "\n",
        "  sgd_callbacks = [\n",
        "      TerminateOnNaN(),\n",
        "      EarlyStopping(monitor='val_loss', patience=40, min_delta=0.),\n",
        "      ReduceLROnPlateau(monitor='loss', factor=0.5, patience=5, verbose=verbose, mode='auto',\n",
        "                        min_delta=0., cooldown=0, min_lr=0)\n",
        "  ]\n",
        "\n",
        "  sgd_lr = 1e-5\n",
        "  momentum = 0.9\n",
        "  dragonnet.compile(optimizer=SGD(learning_rate=sgd_lr, momentum=momentum, nesterov=True), loss=loss,\n",
        "                    metrics=metrics)\n",
        "  dragonnet.fit(x_train, yt_train, callbacks=sgd_callbacks,\n",
        "                validation_split=val_split,\n",
        "                epochs=300,\n",
        "                batch_size=batch_size, verbose=verbose)\n",
        "\n",
        "  elapsed_time = time.time() - start_time\n",
        "  print(\"***************************** elapsed_time is: \", elapsed_time)\n",
        "\n",
        "  yt_hat_test = dragonnet.predict(x_test)\n",
        "  print(\"yt_hat_test shape:\", yt_hat_test.shape)\n",
        "  yt_hat_train = dragonnet.predict(x_train)\n",
        "  print(\"yt_hat_train shape:\", yt_hat_train.shape)\n",
        "\n",
        "  test_outputs += [_split_output(yt_hat_test, t_test, y_test, y_scaler, x_test, test_index)]\n",
        "  train_outputs += [_split_output(yt_hat_train, t_train, y_train, y_scaler, x_train, train_index)]\n"
      ],
      "metadata": {
        "colab": {
          "base_uri": "https://localhost:8080/"
        },
        "outputId": "dafbedfb-988a-46b2-b953-f64be5eba2dd",
        "id": "uulmWB8tFnY_"
      },
      "execution_count": 47,
      "outputs": [
        {
          "output_type": "stream",
          "name": "stdout",
          "text": [
            "/content/data_ihdp_clean/simulation_0.npz\n",
            "All indices shape: (747,)\n",
            "Train indices shape: (747,)\n",
            "Test indices shape: (747,)\n",
            "***************************** elapsed_time is:  15.868285894393921\n",
            "\u001b[1m24/24\u001b[0m \u001b[32m━━━━━━━━━━━━━━━━━━━━\u001b[0m\u001b[37m\u001b[0m \u001b[1m0s\u001b[0m 10ms/step\n",
            "yt_hat_test shape: (747, 3)\n",
            "\u001b[1m24/24\u001b[0m \u001b[32m━━━━━━━━━━━━━━━━━━━━\u001b[0m\u001b[37m\u001b[0m \u001b[1m0s\u001b[0m 4ms/step\n",
            "yt_hat_train shape: (747, 3)\n",
            "eps will be zero\n",
            "average propensity for treated: 0.2505907416343689 and untreated: 0.1538398712873459\n",
            "eps will be zero\n",
            "average propensity for treated: 0.2505907416343689 and untreated: 0.1538398712873459\n",
            "/content/data_ihdp_clean/simulation_1.npz\n",
            "All indices shape: (747,)\n",
            "Train indices shape: (747,)\n",
            "Test indices shape: (747,)\n",
            "***************************** elapsed_time is:  20.537538051605225\n",
            "\u001b[1m24/24\u001b[0m \u001b[32m━━━━━━━━━━━━━━━━━━━━\u001b[0m\u001b[37m\u001b[0m \u001b[1m0s\u001b[0m 9ms/step\n",
            "yt_hat_test shape: (747, 3)\n",
            "\u001b[1m24/24\u001b[0m \u001b[32m━━━━━━━━━━━━━━━━━━━━\u001b[0m\u001b[37m\u001b[0m \u001b[1m0s\u001b[0m 3ms/step\n",
            "yt_hat_train shape: (747, 3)\n",
            "eps will be zero\n",
            "average propensity for treated: 0.24706833064556122 and untreated: 0.15511751174926758\n",
            "eps will be zero\n",
            "average propensity for treated: 0.24706833064556122 and untreated: 0.15511751174926758\n",
            "/content/data_ihdp_clean/simulation_2.npz\n",
            "All indices shape: (747,)\n",
            "Train indices shape: (747,)\n",
            "Test indices shape: (747,)\n",
            "***************************** elapsed_time is:  17.25114607810974\n",
            "\u001b[1m24/24\u001b[0m \u001b[32m━━━━━━━━━━━━━━━━━━━━\u001b[0m\u001b[37m\u001b[0m \u001b[1m0s\u001b[0m 6ms/step\n",
            "yt_hat_test shape: (747, 3)\n",
            "\u001b[1m24/24\u001b[0m \u001b[32m━━━━━━━━━━━━━━━━━━━━\u001b[0m\u001b[37m\u001b[0m \u001b[1m0s\u001b[0m 2ms/step \n",
            "yt_hat_train shape: (747, 3)\n",
            "eps will be zero\n",
            "average propensity for treated: 0.25891125202178955 and untreated: 0.15203770995140076\n",
            "eps will be zero\n",
            "average propensity for treated: 0.25891125202178955 and untreated: 0.15203770995140076\n",
            "/content/data_ihdp_clean/simulation_3.npz\n",
            "All indices shape: (747,)\n",
            "Train indices shape: (747,)\n",
            "Test indices shape: (747,)\n",
            "***************************** elapsed_time is:  14.981748342514038\n",
            "\u001b[1m24/24\u001b[0m \u001b[32m━━━━━━━━━━━━━━━━━━━━\u001b[0m\u001b[37m\u001b[0m \u001b[1m0s\u001b[0m 5ms/step\n",
            "yt_hat_test shape: (747, 3)\n",
            "\u001b[1m24/24\u001b[0m \u001b[32m━━━━━━━━━━━━━━━━━━━━\u001b[0m\u001b[37m\u001b[0m \u001b[1m0s\u001b[0m 2ms/step \n",
            "yt_hat_train shape: (747, 3)\n",
            "eps will be zero\n",
            "average propensity for treated: 0.24906449019908905 and untreated: 0.1546810120344162\n",
            "eps will be zero\n",
            "average propensity for treated: 0.24906449019908905 and untreated: 0.1546810120344162\n",
            "/content/data_ihdp_clean/simulation_4.npz\n",
            "All indices shape: (747,)\n",
            "Train indices shape: (747,)\n",
            "Test indices shape: (747,)\n",
            "***************************** elapsed_time is:  43.23704123497009\n",
            "\u001b[1m24/24\u001b[0m \u001b[32m━━━━━━━━━━━━━━━━━━━━\u001b[0m\u001b[37m\u001b[0m \u001b[1m0s\u001b[0m 6ms/step\n",
            "yt_hat_test shape: (747, 3)\n",
            "\u001b[1m24/24\u001b[0m \u001b[32m━━━━━━━━━━━━━━━━━━━━\u001b[0m\u001b[37m\u001b[0m \u001b[1m0s\u001b[0m 2ms/step \n",
            "yt_hat_train shape: (747, 3)\n",
            "eps will be zero\n",
            "average propensity for treated: 0.2610905170440674 and untreated: 0.15138112008571625\n",
            "eps will be zero\n",
            "average propensity for treated: 0.2610905170440674 and untreated: 0.15138112008571625\n"
          ]
        }
      ]
    },
    {
      "cell_type": "code",
      "source": [
        "# Calculate and print the range of all scaled y values\n",
        "all_scaled_y = np.array(all_scaled_y)\n",
        "y_min, y_max = np.min(all_scaled_y), np.max(all_scaled_y)\n",
        "y_mean = np.mean(all_scaled_y)\n",
        "y_median = np.median(all_scaled_y)\n",
        "print(\"Range of all y's after scaling: Min =\", y_min, \", Max =\", y_max)\n",
        "print(\"Mean of all y's after scaling:\", y_mean)\n",
        "print(\"Median of all y's after scaling:\", y_median)"
      ],
      "metadata": {
        "colab": {
          "base_uri": "https://localhost:8080/"
        },
        "id": "_QL96X0QRTMe",
        "outputId": "f4140be1-32ea-4bee-a51f-49a58e353866"
      },
      "execution_count": 48,
      "outputs": [
        {
          "output_type": "stream",
          "name": "stdout",
          "text": [
            "Range of all y's after scaling: Min = -2.6341970939601964 , Max = 3.722149855023028\n",
            "Mean of all y's after scaling: -3.04382430312225e-17\n",
            "Median of all y's after scaling: -0.1787182750220682\n"
          ]
        }
      ]
    },
    {
      "cell_type": "markdown",
      "source": [
        "### Predicted outputs description\n",
        "\n",
        "- **`q_t0`, `q_t1`**: Predicted outcomes under treatments 0 and 1, respectively.\n",
        "- **`g`**: Predicted propensity score, estimating the probability of receiving the treatment given covariates.\n",
        "- **`t`**: Indicator of treatment.\n",
        "- **`y`**: Original outcome variable before any transformations.\n",
        "- **`index`**: Unique identifier for each observation.\n",
        "\n"
      ],
      "metadata": {
        "id": "C_3nLFPwZMWb"
      }
    },
    {
      "cell_type": "code",
      "source": [
        "# Function to calculate summary statistics\n",
        "def calculate_summary_statistics(values):\n",
        "    summary = {\n",
        "        'mean': np.mean(values),\n",
        "        'median': np.median(values),\n",
        "        'min': np.min(values),\n",
        "        'max': np.max(values)\n",
        "    }\n",
        "    return summary\n",
        "\n",
        "# Initialize a dictionary to store summaries\n",
        "summaries = {key: {'mean': [], 'median': [], 'min': [], 'max': []} for key in test_outputs[0].keys()}\n",
        "\n",
        "# Add summary of the qt0 and qt1\n",
        "def relization_prediction_summary(data):\n",
        "  for key, values in data.items():\n",
        "          summary = calculate_summary_statistics(values)\n",
        "          summaries[key]['mean'].append(summary['mean'])\n",
        "          summaries[key]['median'].append(summary['median'])\n",
        "          summaries[key]['min'].append(summary['min'])\n",
        "          summaries[key]['max'].append(summary['max'])\n",
        "  return summaries\n"
      ],
      "metadata": {
        "id": "cYFIxNkp1JJR"
      },
      "execution_count": 63,
      "outputs": []
    },
    {
      "cell_type": "code",
      "source": [
        "  # save the outputs of for each split (1 per npz file)\n",
        "  train_output_dir = '/content/train_output_ihdp/dragonnet/baseline'\n",
        "  if not os.path.exists(train_output_dir):\n",
        "      os.makedirs(train_output_dir)\n",
        "\n",
        "  for num, output in enumerate(test_outputs):\n",
        "      relization_prediction_summary(output)\n",
        "      np.savez_compressed(os.path.join(train_output_dir, \"{}_replication_test.npz\".format(num)),\n",
        "                          **output)\n",
        "\n",
        "  for num, output in enumerate(train_outputs):\n",
        "      np.savez_compressed(os.path.join(train_output_dir, \"{}_replication_train.npz\".format(num)),\n",
        "                          **output)"
      ],
      "metadata": {
        "id": "tdl_QNPaFnZA"
      },
      "execution_count": 69,
      "outputs": []
    },
    {
      "cell_type": "code",
      "source": [
        "summaries"
      ],
      "metadata": {
        "colab": {
          "base_uri": "https://localhost:8080/"
        },
        "id": "zBgR3-deaJWB",
        "outputId": "8d70411e-2d73-4de3-98f6-ac688b03e132"
      },
      "execution_count": 72,
      "outputs": [
        {
          "output_type": "execute_result",
          "data": {
            "text/plain": [
              "{'q_t0': {'mean': [2.4419556, 4.31126, 3.3146532, 8.04574, 7.0641274],\n",
              "  'median': [1.9741235, 4.160897, 3.1002169, 7.6214266, 6.4181566],\n",
              "  'min': [0.8944356, 2.3987834, 0.40590498, 3.940767, 1.7457205],\n",
              "  'max': [9.428092, 7.6059113, 8.975161, 16.309668, 18.08155]},\n",
              " 'q_t1': {'mean': [6.491889, 8.49261, 7.340295, 12.093035, 11.351087],\n",
              "  'median': [6.469, 8.486656, 7.3914714, 12.085583, 11.401945],\n",
              "  'min': [4.809279, 6.6680994, 5.277436, 9.78021, 9.539628],\n",
              "  'max': [8.042192, 9.799993, 9.083836, 14.294786, 13.116048]},\n",
              " 'g': {'mean': [0.17184305, 0.1722275, 0.17192447, 0.17224365, 0.17179558],\n",
              "  'median': [0.13760275, 0.14142348, 0.13035448, 0.13899723, 0.1295518],\n",
              "  'min': [0.014214879, 0.015603492, 0.01071474, 0.01696525, 0.013671842],\n",
              "  'max': [0.6391426, 0.57421136, 0.6361032, 0.61008126, 0.6610096]},\n",
              " 't': {'mean': [0.18607764390896922,\n",
              "   0.18607764390896922,\n",
              "   0.18607764390896922,\n",
              "   0.18607764390896922,\n",
              "   0.18607764390896922],\n",
              "  'median': [0.0, 0.0, 0.0, 0.0, 0.0],\n",
              "  'min': [0.0, 0.0, 0.0, 0.0, 0.0],\n",
              "  'max': [1.0, 1.0, 1.0, 1.0, 1.0]},\n",
              " 'y': {'mean': [3.1595375238575967,\n",
              "   5.021248902661416,\n",
              "   4.046920747858766,\n",
              "   8.803488904736291,\n",
              "   7.781083656029163],\n",
              "  'median': [2.57729440725023,\n",
              "   4.62528855929321,\n",
              "   3.70483836602173,\n",
              "   8.41848560867099,\n",
              "   7.30638834417487],\n",
              "  'min': [-1.5439023186620897,\n",
              "   0.7520656105500194,\n",
              "   -1.8523404622632498,\n",
              "   1.4605978765493912,\n",
              "   0.5485904728436335],\n",
              "  'max': [11.2682277695966,\n",
              "   10.9136260076176,\n",
              "   11.7164389096312,\n",
              "   19.0999561486574,\n",
              "   19.088901079604]},\n",
              " 'x': {'mean': [0.2932262382864792,\n",
              "   0.2932262382864792,\n",
              "   0.2932262382864792,\n",
              "   0.2932262382864792,\n",
              "   0.2932262382864792],\n",
              "  'median': [0.0, 0.0, 0.0, 0.0, 0.0],\n",
              "  'min': [-5.13042776464339,\n",
              "   -5.13042776464339,\n",
              "   -5.13042776464339,\n",
              "   -5.13042776464339,\n",
              "   -5.13042776464339],\n",
              "  'max': [2.99036883104816,\n",
              "   2.99036883104816,\n",
              "   2.99036883104816,\n",
              "   2.99036883104816,\n",
              "   2.99036883104816]},\n",
              " 'index': {'mean': [373.0, 373.0, 373.0, 373.0, 373.0],\n",
              "  'median': [373.0, 373.0, 373.0, 373.0, 373.0],\n",
              "  'min': [0, 0, 0, 0, 0],\n",
              "  'max': [746, 746, 746, 746, 746]},\n",
              " 'eps': {'mean': [0.0, 0.0, 0.0, 0.0, 0.0],\n",
              "  'median': [0.0, 0.0, 0.0, 0.0, 0.0],\n",
              "  'min': [0.0, 0.0, 0.0, 0.0, 0.0],\n",
              "  'max': [0.0, 0.0, 0.0, 0.0, 0.0]}}"
            ]
          },
          "metadata": {},
          "execution_count": 72
        }
      ]
    },
    {
      "cell_type": "code",
      "source": [
        "# Function to calculate the overall summary statistics from the lists\n",
        "def calculate_overall_summary(statistics):\n",
        "    overall_summary = {}\n",
        "    for key, values in statistics.items():\n",
        "        overall_summary[key] = {\n",
        "            'mean': np.mean(values['mean']),\n",
        "            'median': np.median(values['median']),\n",
        "            'min': np.min(values['min']),\n",
        "            'max': np.max(values['max'])\n",
        "        }\n",
        "    return overall_summary\n",
        "\n",
        "overall_summary = calculate_overall_summary(summaries)\n",
        "\n",
        "\n",
        "# Create a pandas DataFrame\n",
        "summary_df = pd.DataFrame(overall_summary).transpose()\n",
        "print(summary_df)"
      ],
      "metadata": {
        "colab": {
          "base_uri": "https://localhost:8080/"
        },
        "id": "OB4vFQuuaWSh",
        "outputId": "07db836b-13f7-40da-cf52-8aa28af595cc"
      },
      "execution_count": 75,
      "outputs": [
        {
          "output_type": "stream",
          "name": "stdout",
          "text": [
            "             mean      median       min         max\n",
            "q_t0     5.035547    4.160897  0.405905   18.081551\n",
            "q_t1     9.153784    8.486656  4.809279   14.294786\n",
            "g        0.172007    0.137603  0.010715    0.661010\n",
            "t        0.186078    0.000000  0.000000    1.000000\n",
            "y        5.762456    4.625289 -1.852340   19.099956\n",
            "x        0.293226    0.000000 -5.130428    2.990369\n",
            "index  373.000000  373.000000  0.000000  746.000000\n",
            "eps      0.000000    0.000000  0.000000    0.000000\n"
          ]
        }
      ]
    },
    {
      "cell_type": "code",
      "source": [],
      "metadata": {
        "id": "Y6N649pea_2L"
      },
      "execution_count": null,
      "outputs": []
    },
    {
      "cell_type": "code",
      "source": [
        "K.clear_session()"
      ],
      "metadata": {
        "id": "qvwngzm_FnZA"
      },
      "execution_count": 16,
      "outputs": []
    },
    {
      "cell_type": "markdown",
      "source": [
        "# * With Targeted Regularization"
      ],
      "metadata": {
        "id": "1Ug6zUrfDtUN"
      }
    },
    {
      "cell_type": "markdown",
      "source": [
        "Targeted regularization is a modification to the objective function (loss function):\n",
        "* introduced an extra model parameter ϵ (trainable scalar)\n",
        "* a regularization term γ\n",
        "\n",
        "\n",
        "RECALL: R̂ is the original objective function\n",
        "\n",
        "---\n",
        "\n",
        "\n",
        "\n",
        "![image.png](data:image/png;base64,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)"
      ],
      "metadata": {
        "id": "Toz0ZGtrZFdl"
      }
    },
    {
      "cell_type": "code",
      "source": [
        "class EpsilonLayer(Layer):\n",
        "\n",
        "    def __init__(self):\n",
        "        super(EpsilonLayer, self).__init__()\n",
        "\n",
        "    def build(self, input_shape):\n",
        "        # Create a trainable weight variable for this layer.\n",
        "        self.epsilon = self.add_weight(name='epsilon',\n",
        "                                       shape=[1, 1], # scalar\n",
        "                                       initializer='RandomNormal',\n",
        "                                       #  initializer='ones',\n",
        "                                       trainable=True)\n",
        "        super(EpsilonLayer, self).build(input_shape)  # Be sure to call this at the end\n",
        "\n",
        "    #  This operation ensures that every sample in a batch has the same value of epsilon,\n",
        "    #  but maintains the batch structure necessary for further calculations in a model.\n",
        "    def call(self, inputs, **kwargs):\n",
        "        # import ipdb; ipdb.set_trace()\n",
        "        return self.epsilon * tf.ones_like(inputs)[:, 0:1]"
      ],
      "metadata": {
        "id": "tHI22OiDZFdl"
      },
      "execution_count": 17,
      "outputs": []
    },
    {
      "cell_type": "markdown",
      "source": [
        "## 🐲 Dragonnet w. Targeted Regularization ϵ"
      ],
      "metadata": {
        "id": "RORSsAofIL8g"
      }
    },
    {
      "cell_type": "markdown",
      "source": [
        "### 1. Model architecture"
      ],
      "metadata": {
        "id": "V0ytY3uwIL8g"
      }
    },
    {
      "cell_type": "code",
      "source": [
        "def make_dragonnet_tarreg(input_dim, reg_l2):\n",
        "\n",
        "    inputs = Input(shape=(input_dim,), name='input')\n",
        "\n",
        "    # representation\n",
        "    x = Dense(units=200, activation='elu', kernel_initializer='RandomNormal')(inputs)\n",
        "    x = Dense(units=200, activation='elu', kernel_initializer='RandomNormal')(x)\n",
        "    x = Dense(units=200, activation='elu', kernel_initializer='RandomNormal')(x)\n",
        "\n",
        "    # t_predictions = Dense(units=1, activation='sigmoid')(inputs)\n",
        "    # ***** (3) propensity score g layer ****\n",
        "    t_predictions = Dense(units=1, activation='sigmoid')(x)\n",
        "\n",
        "    # HYPOTHESIS\n",
        "    y0_hidden = Dense(units=100, activation='elu', kernel_regularizer=regularizers.l2(reg_l2))(x)\n",
        "    y1_hidden = Dense(units=100, activation='elu', kernel_regularizer=regularizers.l2(reg_l2))(x)\n",
        "\n",
        "    # second layer\n",
        "    y0_hidden = Dense(units=100, activation='elu', kernel_regularizer=regularizers.l2(reg_l2))(y0_hidden)\n",
        "    y1_hidden = Dense(units=100, activation='elu', kernel_regularizer=regularizers.l2(reg_l2))(y1_hidden)\n",
        "\n",
        "    # third\n",
        "    y0_predictions = Dense(units=1, activation=None, kernel_regularizer=regularizers.l2(reg_l2), name='y0_predictions')(\n",
        "        y0_hidden)\n",
        "    y1_predictions = Dense(units=1, activation=None, kernel_regularizer=regularizers.l2(reg_l2), name='y1_predictions')(\n",
        "        y1_hidden)\n",
        "\n",
        "    # NEW!!!! For targeted regularization\n",
        "    # ***** epsilon layer - look into the class ****\n",
        "    dl = EpsilonLayer()\n",
        "    # init this layer to make sure each element in the batch of t_predictions\n",
        "    # will multiply the scalar value epsilon (trainable parameter) defult is 1\n",
        "    epsilons = dl(t_predictions, name='epsilon')\n",
        "    concat_pred = Concatenate(1)([y0_predictions, y1_predictions, t_predictions, epsilons])\n",
        "\n",
        "    model = Model(inputs=inputs, outputs=concat_pred)\n",
        "\n",
        "    return model\n",
        "\n"
      ],
      "metadata": {
        "id": "2hxC7s4-KDid"
      },
      "execution_count": 18,
      "outputs": []
    },
    {
      "cell_type": "markdown",
      "source": [
        "### 2. fit the model"
      ],
      "metadata": {
        "id": "NnE9RkvFIL8g"
      }
    },
    {
      "cell_type": "markdown",
      "source": [
        "The loss function for targeted regularization is dependent on both the original objective function R̂ and the regularizaiton term. The objective function is defined above in 3.2.\n",
        "\n",
        "This loss function combines a typical prediction loss (dragonnet_loss_binarycross) with a targeted regularization term that adjusts predictions based on the influence of propensity score H + epsilon (trainable param)."
      ],
      "metadata": {
        "id": "NGolny1kcnPh"
      }
    },
    {
      "cell_type": "code",
      "source": [
        "# NEW LOSS FUNCTION!!!! for Tarreg\n",
        "\n",
        "#  This loss function combines a typical prediction loss (dragonnet_loss_binarycross)\n",
        "#  with a targeted regularization term\n",
        "#  that adjusts predictions based on the influence of\n",
        "#  propensity score H + epsilon (trainable param)\n",
        "def make_tarreg_loss(ratio=1., dragonnet_loss=dragonnet_loss_binarycross):\n",
        "    def tarreg_ATE_unbounded_domain_loss(concat_true, concat_pred):\n",
        "        vanilla_loss = dragonnet_loss(concat_true, concat_pred)\n",
        "\n",
        "        y_true = concat_true[:, 0]\n",
        "        t_true = concat_true[:, 1]\n",
        "\n",
        "        y0_pred = concat_pred[:, 0]\n",
        "        y1_pred = concat_pred[:, 1]\n",
        "        t_pred = concat_pred[:, 2]\n",
        "\n",
        "        epsilons = concat_pred[:, 3]\n",
        "        t_pred = (t_pred + 0.01) / 1.02\n",
        "        y_pred = t_true * y1_pred + (1 - t_true) * y0_pred\n",
        "\n",
        "        # ********* (4) Computing H - the influence of propensity score (treatment probability)\n",
        "        #  on the perturbation. ******\n",
        "        h = t_true / t_pred - (1 - t_true) / (1 - t_pred)\n",
        "        # ********* Perturbed Outcomes - adjusts the\n",
        "        # raw predictions based on the estimated treatment effect and the learned epsilon. ***********\n",
        "        y_pert = y_pred + epsilons * h\n",
        "\n",
        "        targeted_regularization = tf.reduce_sum(tf.square(y_true - y_pert))\n",
        "\n",
        "        # final\n",
        "        loss = vanilla_loss + ratio * targeted_regularization\n",
        "        return loss\n",
        "\n",
        "    return tarreg_ATE_unbounded_domain_loss\n",
        "\n"
      ],
      "metadata": {
        "id": "EcnScc27K_Lv"
      },
      "execution_count": 19,
      "outputs": []
    },
    {
      "cell_type": "markdown",
      "source": [
        "Additional to the metrics defined in the pure dragonnet. There's also a new metric to compute the average absolute value of epsilons across batches of data during training or evaluation monitor or track how large the epsilon values are, on average, across batches of data during training or evaluation"
      ],
      "metadata": {
        "id": "wVeE9TXsdbTJ"
      }
    },
    {
      "cell_type": "code",
      "source": [
        "# Define metrics\n",
        "# New Metric!!!\n",
        "\n",
        "# compute the average absolute value of epsilons\n",
        "# across batches of data during training or evaluation\n",
        "# monitor or track how large the epsilon values are,\n",
        "# on average, across batches of data during training or evaluation\n",
        "def track_epsilon(concat_true, concat_pred):\n",
        "    epsilons = concat_pred[:, 3]\n",
        "    return tf.abs(tf.reduce_mean(epsilons))\n",
        "\n",
        "metrics = [regression_loss, binary_classification_loss, treatment_accuracy, track_epsilon]"
      ],
      "metadata": {
        "id": "NhzkihAoK_Lv"
      },
      "execution_count": 20,
      "outputs": []
    },
    {
      "cell_type": "markdown",
      "source": [
        "####Start training below\n",
        "\n",
        "> Note: the default code use all the data for prediction and estimation. If you want to get the in-sample or out-sample error:  change the train_test_split criteria.\n",
        "\n"
      ],
      "metadata": {
        "id": "5r5PNv9chNIS"
      }
    },
    {
      "cell_type": "code",
      "source": [
        "train_outputs = []\n",
        "test_outputs = []\n",
        "\n",
        "for idx, realization_data in enumerate(sorted(glob.glob(\"{}/*.npz\".format('/content/data_ihdp_clean')))):\n",
        "  # Prepare data for training (by default use all the data for train and prediction)\n",
        "  print(realization_data)\n",
        "  data = load(realization_data)\n",
        "  x, t, y_unscaled = data['x'], data['t'], data['y']\n",
        "  verbose = 0\n",
        "  # ********(1) Transform of Y outcome *****************\n",
        "  y_scaler = StandardScaler().fit(y_unscaled)\n",
        "  y = y_scaler.transform(y_unscaled)\n",
        "\n",
        "  i = 0\n",
        "  tf.random.set_seed(i)\n",
        "  np.random.seed(i)\n",
        "  # If you want to get the in-sample or out-sample error:\n",
        "  # i) change the train_test_split criteria\n",
        "  train_index, test_index = train_test_split(np.arange(x.shape[0]), test_size=0.01, random_state=1)\n",
        "  # ii) comment out the following: ----------\n",
        "  all_index = np.append(train_index, test_index)\n",
        "  print(\"All indices shape:\", all_index.shape)\n",
        "  test_index = all_index\n",
        "  train_index = all_index\n",
        "  # -------------------------------\n",
        "  print(\"Train indices shape:\", train_index.shape)\n",
        "  print(\"Test indices shape:\", test_index.shape)\n",
        "\n",
        "  x_train, x_test = x[train_index], x[test_index]\n",
        "  y_train, y_test = y[train_index], y[test_index]\n",
        "  t_train, t_test = t[train_index], t[test_index]\n",
        "\n",
        "  # two column matrix col1 = y,col 2 = t\n",
        "  yt_train = np.concatenate([y_train, t_train], 1)\n",
        "\n",
        "  # ********(2) Model Configuration (G-comp) ******************\n",
        "  # Each takes the number of features (x.shape[1]) and a regularization parameter (0.01) as inputs.\n",
        "  dragonnet = make_dragonnet_tarreg(x.shape[1], 0.01)\n",
        "\n",
        "  # Start training\n",
        "  import time;\n",
        "  start_time = time.time()\n",
        "  val_split = 0.2\n",
        "  batch_size = 64\n",
        "  # ------------DIFF---------------------\n",
        "  ratio = 1.0\n",
        "  loss = make_tarreg_loss(ratio=ratio, dragonnet_loss=dragonnet_loss_binarycross)\n",
        "  # ------------DIFF---------------------\n",
        "  metrics = metrics\n",
        "\n",
        "\n",
        "  dragonnet.compile(\n",
        "        optimizer=Adam(learning_rate=1e-3),\n",
        "        loss=loss, metrics=metrics)\n",
        "\n",
        "  adam_callbacks = [\n",
        "      TerminateOnNaN(),\n",
        "      EarlyStopping(monitor='val_loss', patience=2, min_delta=0.),\n",
        "      ReduceLROnPlateau(monitor='loss', factor=0.5, patience=5, verbose=verbose, mode='auto',\n",
        "                        min_delta=1e-8, cooldown=0, min_lr=0)\n",
        "\n",
        "  ]\n",
        "\n",
        "  dragonnet.fit(x_train, yt_train, callbacks=adam_callbacks,\n",
        "                validation_split=val_split,\n",
        "                epochs=100,\n",
        "                batch_size=batch_size, verbose=verbose)\n",
        "\n",
        "  sgd_callbacks = [\n",
        "      TerminateOnNaN(),\n",
        "      EarlyStopping(monitor='val_loss', patience=40, min_delta=0.),\n",
        "      ReduceLROnPlateau(monitor='loss', factor=0.5, patience=5, verbose=verbose, mode='auto',\n",
        "                        min_delta=0., cooldown=0, min_lr=0)\n",
        "  ]\n",
        "\n",
        "  sgd_lr = 1e-5\n",
        "  momentum = 0.9\n",
        "  dragonnet.compile(optimizer=SGD(learning_rate=sgd_lr, momentum=momentum, nesterov=True), loss=loss,\n",
        "                    metrics=metrics)\n",
        "  dragonnet.fit(x_train, yt_train, callbacks=sgd_callbacks,\n",
        "                validation_split=val_split,\n",
        "                epochs=300,\n",
        "                batch_size=batch_size, verbose=verbose)\n",
        "\n",
        "  elapsed_time = time.time() - start_time\n",
        "  print(\"***************************** elapsed_time is: \", elapsed_time)\n",
        "\n",
        "  yt_hat_test = dragonnet.predict(x_test)\n",
        "  yt_hat_train = dragonnet.predict(x_train)\n",
        "\n",
        "  test_outputs += [_split_output(yt_hat_test, t_test, y_test, y_scaler, x_test, test_index)]\n",
        "  train_outputs += [_split_output(yt_hat_train, t_train, y_train, y_scaler, x_train, train_index)]\n"
      ],
      "metadata": {
        "id": "YhamAKkFK_Lv",
        "colab": {
          "base_uri": "https://localhost:8080/"
        },
        "outputId": "1f606c17-2fd4-45da-ba7e-9256f455e265"
      },
      "execution_count": 21,
      "outputs": [
        {
          "output_type": "stream",
          "name": "stdout",
          "text": [
            "/content/data_ihdp_clean/simulation_0.npz\n",
            "All indices shape: (747,)\n",
            "Train indices shape: (747,)\n",
            "Test indices shape: (747,)\n",
            "***************************** elapsed_time is:  16.134366035461426\n",
            "\u001b[1m24/24\u001b[0m \u001b[32m━━━━━━━━━━━━━━━━━━━━\u001b[0m\u001b[37m\u001b[0m \u001b[1m0s\u001b[0m 6ms/step\n",
            "\u001b[1m24/24\u001b[0m \u001b[32m━━━━━━━━━━━━━━━━━━━━\u001b[0m\u001b[37m\u001b[0m \u001b[1m0s\u001b[0m 2ms/step \n",
            "eps is trained\n",
            "average propensity for treated: 0.23501861095428467 and untreated: 0.1609606295824051\n",
            "eps is trained\n",
            "average propensity for treated: 0.23501861095428467 and untreated: 0.1609606295824051\n",
            "/content/data_ihdp_clean/simulation_1.npz\n",
            "All indices shape: (747,)\n",
            "Train indices shape: (747,)\n",
            "Test indices shape: (747,)\n",
            "***************************** elapsed_time is:  17.73011040687561\n",
            "\u001b[1m24/24\u001b[0m \u001b[32m━━━━━━━━━━━━━━━━━━━━\u001b[0m\u001b[37m\u001b[0m \u001b[1m0s\u001b[0m 6ms/step\n",
            "\u001b[1m24/24\u001b[0m \u001b[32m━━━━━━━━━━━━━━━━━━━━\u001b[0m\u001b[37m\u001b[0m \u001b[1m0s\u001b[0m 2ms/step \n",
            "eps is trained\n",
            "average propensity for treated: 0.23592732846736908 and untreated: 0.15757964551448822\n",
            "eps is trained\n",
            "average propensity for treated: 0.23592732846736908 and untreated: 0.15757964551448822\n",
            "/content/data_ihdp_clean/simulation_2.npz\n",
            "All indices shape: (747,)\n",
            "Train indices shape: (747,)\n",
            "Test indices shape: (747,)\n",
            "***************************** elapsed_time is:  17.52910590171814\n",
            "\u001b[1m24/24\u001b[0m \u001b[32m━━━━━━━━━━━━━━━━━━━━\u001b[0m\u001b[37m\u001b[0m \u001b[1m0s\u001b[0m 8ms/step\n",
            "\u001b[1m24/24\u001b[0m \u001b[32m━━━━━━━━━━━━━━━━━━━━\u001b[0m\u001b[37m\u001b[0m \u001b[1m0s\u001b[0m 3ms/step\n",
            "eps is trained\n",
            "average propensity for treated: 0.24469609558582306 and untreated: 0.15659384429454803\n",
            "eps is trained\n",
            "average propensity for treated: 0.24469609558582306 and untreated: 0.15659384429454803\n",
            "/content/data_ihdp_clean/simulation_3.npz\n",
            "All indices shape: (747,)\n",
            "Train indices shape: (747,)\n",
            "Test indices shape: (747,)\n",
            "***************************** elapsed_time is:  59.3038763999939\n",
            "\u001b[1m24/24\u001b[0m \u001b[32m━━━━━━━━━━━━━━━━━━━━\u001b[0m\u001b[37m\u001b[0m \u001b[1m0s\u001b[0m 6ms/step\n",
            "\u001b[1m24/24\u001b[0m \u001b[32m━━━━━━━━━━━━━━━━━━━━\u001b[0m\u001b[37m\u001b[0m \u001b[1m0s\u001b[0m 3ms/step\n",
            "eps is trained\n",
            "average propensity for treated: 0.26537466049194336 and untreated: 0.15022680163383484\n",
            "eps is trained\n",
            "average propensity for treated: 0.26537466049194336 and untreated: 0.15022680163383484\n",
            "/content/data_ihdp_clean/simulation_4.npz\n",
            "All indices shape: (747,)\n",
            "Train indices shape: (747,)\n",
            "Test indices shape: (747,)\n",
            "***************************** elapsed_time is:  31.329163551330566\n",
            "\u001b[1m24/24\u001b[0m \u001b[32m━━━━━━━━━━━━━━━━━━━━\u001b[0m\u001b[37m\u001b[0m \u001b[1m0s\u001b[0m 6ms/step\n",
            "\u001b[1m24/24\u001b[0m \u001b[32m━━━━━━━━━━━━━━━━━━━━\u001b[0m\u001b[37m\u001b[0m \u001b[1m0s\u001b[0m 2ms/step \n",
            "eps is trained\n",
            "average propensity for treated: 0.24584804475307465 and untreated: 0.15611188113689423\n",
            "eps is trained\n",
            "average propensity for treated: 0.24584804475307465 and untreated: 0.15611188113689423\n"
          ]
        }
      ]
    },
    {
      "cell_type": "markdown",
      "source": [
        "### Predicted outputs description\n",
        "\n",
        "- **`q_t0`, `q_t1`**: Predicted outcomes under treatments 0 and 1, respectively.\n",
        "- **`g`**: Predicted propensity score, estimating the probability of receiving the treatment given covariates.\n",
        "- **`t`**: Indicator of treatment.\n",
        "- **`y`**: Original outcome variable before any transformations.\n",
        "- **`index`**: Unique identifier for each observation.\n",
        "- **`eps`** (epsilon): Small constant used in calculations, typically to ensure numerical stability."
      ],
      "metadata": {
        "id": "Qp_dWn41ZT6V"
      }
    },
    {
      "cell_type": "code",
      "source": [
        "# save the outputs of for each split (1 per npz file)\n",
        "train_output_dir = '/content/train_output_ihdp/dragonnet/tarreg'\n",
        "if not os.path.exists(train_output_dir):\n",
        "    os.makedirs(train_output_dir)\n",
        "\n",
        "for num, output in enumerate(test_outputs):\n",
        "    np.savez_compressed(os.path.join(train_output_dir, \"{}_replication_test.npz\".format(num)),\n",
        "                        **output)\n",
        "\n",
        "for num, output in enumerate(train_outputs):\n",
        "    np.savez_compressed(os.path.join(train_output_dir, \"{}_replication_train.npz\".format(num)),\n",
        "                        **output)"
      ],
      "metadata": {
        "id": "JAx7bQ3EK_Lw"
      },
      "execution_count": 22,
      "outputs": []
    },
    {
      "cell_type": "code",
      "source": [],
      "metadata": {
        "id": "cX9zaaxRLdB6"
      },
      "execution_count": 22,
      "outputs": []
    },
    {
      "cell_type": "markdown",
      "source": [
        "# STEP 2: Estimate ATE (Average Treatment Effect)"
      ],
      "metadata": {
        "id": "wLVzi5r9MsNP"
      }
    },
    {
      "cell_type": "markdown",
      "source": [
        "After predictions generated, we want to plug them into to the estimator for ATE. There are two estimator:\n",
        "\n",
        "* natural estimator (1.2)\n",
        "![image.png](data:image/png;base64,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)\n",
        "\n",
        "* Targeted Maximum Likelihood Estimation (TMLE):\n"
      ],
      "metadata": {
        "id": "roOt8kLuhqAg"
      }
    },
    {
      "cell_type": "markdown",
      "source": [
        "Difference between TMLE and Targeted regularization\n",
        "\n",
        "* TMLE uses only the ϵ to ensure non-parametric estimating equation are satisfied\n",
        "* targeted regularization adpats the entire model, incorporate it in the training process?\n",
        "\n",
        "Both are designed to yeild an estimate with stable finite-sample behavior and strong asymptotic auarantees.\n",
        "\n",
        "Experiments will be run to compare the two (see section 5.2)"
      ],
      "metadata": {
        "id": "NH4_HmvMn6iQ"
      }
    },
    {
      "cell_type": "code",
      "source": [
        "def load_data(knob, replication, model, train_test):\n",
        "    \"\"\"\n",
        "    loading train test experiment results\n",
        "    \"\"\"\n",
        "    output_dir = '/content/train_output_ihdp/{}/{}/'.format(knob,model)\n",
        "    data = load(output_dir + '{}_replication_{}.npz'.format(replication, train_test))\n",
        "\n",
        "    # q_t0,q_t1 -> predicted outcomes under (0,1) treatment\n",
        "    # g -> predicted propensity score\n",
        "    # t -> treatment\n",
        "    # y -> original y before transformation\n",
        "    # index\n",
        "    # eps -> epsilon\n",
        "    # NOTE: rechape (-1,1) return a two-dimensional array with one column and as many rows as necessary to accommodate all elements.\n",
        "\n",
        "    return data['q_t0'].reshape(-1, 1), data['q_t1'].reshape(-1, 1), data['g'].reshape(-1, 1), \\\n",
        "           data['t'].reshape(-1, 1), data['y'].reshape(-1, 1), data['index'].reshape(-1, 1), data['eps'].reshape(-1, 1)\n"
      ],
      "metadata": {
        "id": "P58a3M1cMulC"
      },
      "execution_count": 23,
      "outputs": []
    },
    {
      "cell_type": "code",
      "source": [
        "dict = {'tarnet': {'baseline': {'back_door': 0, }, 'tarreg': 0},\n",
        "            'dragonnet': {'baseline': 0, 'tarreg': 0},\n",
        "            'nednet': {'baseline': 0, 'tarreg': 0}}\n",
        "\n",
        "tmle_dict = copy.deepcopy(dict)"
      ],
      "metadata": {
        "id": "rBXT5pDTTBDx"
      },
      "execution_count": 24,
      "outputs": []
    },
    {
      "cell_type": "code",
      "source": [
        "n_replications = len(glob.glob(\"/content/data_ihdp_clean/*.npz\"))\n",
        "n_replications"
      ],
      "metadata": {
        "colab": {
          "base_uri": "https://localhost:8080/"
        },
        "id": "ltqcgarZSlVP",
        "outputId": "e18d2c11-d493-4045-c0ed-b56561194d6a"
      },
      "execution_count": 25,
      "outputs": [
        {
          "output_type": "execute_result",
          "data": {
            "text/plain": [
              "5"
            ]
          },
          "metadata": {},
          "execution_count": 25
        }
      ]
    },
    {
      "cell_type": "code",
      "source": [
        "def load_truth(replication, knob):\n",
        "    \"\"\"\n",
        "    loading ground truth data\n",
        "    \"\"\"\n",
        "\n",
        "    file_path = '/content/data_ihdp_clean/simulation_{}.npz'.format(replication)\n",
        "    data = load(file_path)\n",
        "    mu_0 = data['mu_0']\n",
        "    mu_1 = data['mu_1']\n",
        "\n",
        "    return mu_1, mu_0\n"
      ],
      "metadata": {
        "id": "0TakU-xMQjJ3"
      },
      "execution_count": 26,
      "outputs": []
    },
    {
      "cell_type": "code",
      "source": [
        "# Helper functions, details in Appendix B, the purpose of the truncation\n",
        "# is to minimize the effect of extreme propensity scores.\n",
        "def truncate_by_g(attribute, g, level=0.01):\n",
        "    keep_these = np.logical_and(g >= level, g <= 1.-level)\n",
        "\n",
        "    return attribute[keep_these]\n",
        "\n",
        "\n",
        "def truncate_all_by_g(q_t0, q_t1, g, t, y, truncate_level=0.05):\n",
        "    \"\"\"\n",
        "    Helper function to clean up nuisance parameter estimates.\n",
        "\n",
        "    \"\"\"\n",
        "\n",
        "    orig_g = np.copy(g)\n",
        "\n",
        "    q_t0 = truncate_by_g(np.copy(q_t0), orig_g, truncate_level)\n",
        "    q_t1 = truncate_by_g(np.copy(q_t1), orig_g, truncate_level)\n",
        "    g = truncate_by_g(np.copy(g), orig_g, truncate_level)\n",
        "    t = truncate_by_g(np.copy(t), orig_g, truncate_level)\n",
        "    y = truncate_by_g(np.copy(y), orig_g, truncate_level)\n",
        "\n",
        "    return q_t0, q_t1, g, t, y\n",
        "\n",
        "\n",
        "\n",
        "def cross_entropy(y, p):\n",
        "    return -np.mean((y*np.log(p) + (1.-y)*np.log(1.-p)))\n",
        "\n",
        "\n",
        "def mse(x, y):\n",
        "    return np.mean(np.square(x-y))\n"
      ],
      "metadata": {
        "id": "5dHRcGKxifjY"
      },
      "execution_count": 27,
      "outputs": []
    },
    {
      "cell_type": "code",
      "source": [
        "def psi_naive(q_t0, q_t1, g, t, y, truncate_level=0.):\n",
        "    ite = (q_t1 - q_t0)\n",
        "    return np.mean(truncate_by_g(ite, g, level=truncate_level))\n",
        "\n",
        "\n",
        "def psi_tmle_cont_outcome(q_t0, q_t1, g, t, y, eps_hat=None, truncate_level=0.05):\n",
        "    q_t0, q_t1, g, t, y = truncate_all_by_g(q_t0, q_t1, g, t, y, truncate_level)\n",
        "\n",
        "\n",
        "    g_loss = mse(g, t)\n",
        "    h = t * (1.0/g) - (1.0-t) / (1.0 - g)\n",
        "    full_q = (1.0-t)*q_t0 + t*q_t1 # predictions from unperturbed model\n",
        "\n",
        "    if eps_hat is None:\n",
        "        eps_hat = np.sum(h*(y-full_q)) / np.sum(np.square(h))\n",
        "\n",
        "    def q1(t_cf):\n",
        "        # ***** Estimate H ******\n",
        "        h_cf = t_cf * (1.0 / g) - (1.0 - t_cf) / (1.0 - g)\n",
        "        full_q = (1.0 - t_cf) * q_t0 + t_cf * q_t1  # predictions from unperturbed model\n",
        "        # ***** Update predictions with H, eps ******\n",
        "        return full_q + eps_hat * h_cf\n",
        "\n",
        "    # ***** average Treatment effect *****\n",
        "    ite = q1(np.ones_like(t)) - q1(np.zeros_like(t))\n",
        "    psi_tmle = np.mean(ite)\n",
        "\n",
        "    # standard deviation computation relies on asymptotic expansion of non-parametric estimator, see van der Laan and Rose p 96\n",
        "    ic = h*(y-q1(t)) + ite - psi_tmle\n",
        "    psi_tmle_std = np.std(ic) / np.sqrt(t.shape[0])\n",
        "    initial_loss = np.mean(np.square(full_q-y))\n",
        "    final_loss = np.mean(np.square(q1(t)-y))\n",
        "\n",
        "\n",
        "    return psi_tmle, psi_tmle_std, eps_hat, initial_loss, final_loss, g_loss\n"
      ],
      "metadata": {
        "id": "1hqdl1P0iFjX"
      },
      "execution_count": 28,
      "outputs": []
    },
    {
      "cell_type": "markdown",
      "source": [
        "## 🐲 Dragonnet"
      ],
      "metadata": {
        "id": "9TIFNv7pRfj0"
      }
    },
    {
      "cell_type": "code",
      "source": [
        "simple_errors_dragonnet = []\n",
        "tmle_errors_dragonnet = []\n",
        "knob = 'dragonnet'\n",
        "model = 'baseline'\n",
        "train_test = 'train'\n",
        "\n",
        "for rep in range(n_replications):\n",
        "  q_t0, q_t1, g, t, y_dragon, index, eps = load_data(knob, rep, model, train_test)\n",
        "  a, b = load_truth(rep,knob)\n",
        "  mu_1, mu_0 = a[index], b[index]\n",
        "\n",
        "  truth = (mu_1 - mu_0).mean()\n",
        "\n",
        "  truncate_level=0.01\n",
        "  psi_n = psi_naive(q_t0, q_t1, g, t, y_dragon, truncate_level=truncate_level)\n",
        "  psi_tmle, psi_tmle_std, eps_hat, initial_loss, final_loss, g_loss = psi_tmle_cont_outcome(q_t0, q_t1, g, t,\n",
        "                                                                                              y_dragon,\n",
        "                                                                                              truncate_level=truncate_level)\n",
        "\n",
        "\n",
        "  err = abs(truth - psi_n).mean()\n",
        "  tmle_err = abs(truth - psi_tmle).mean()\n",
        "  simple_errors_dragonnet.append(err)\n",
        "  tmle_errors_dragonnet.append(tmle_err)\n",
        "\n",
        "dict[knob][model] = np.mean(simple_errors_dragonnet)\n",
        "tmle_dict[knob][model] = np.mean(tmle_errors_dragonnet)\n",
        "\n",
        "print('simple error:',dict[knob][model])\n",
        "print('tmle error:',tmle_dict[knob][model], ' with std: ',psi_tmle_std)"
      ],
      "metadata": {
        "colab": {
          "base_uri": "https://localhost:8080/"
        },
        "id": "z2VlRD9rRcqr",
        "outputId": "70b8e32a-7220-443b-fa91-3be38886a8ca"
      },
      "execution_count": 29,
      "outputs": [
        {
          "output_type": "stream",
          "name": "stdout",
          "text": [
            "simple error: 0.10990943195106677\n",
            "tmle error: 0.11145082937551179  with std:  0.1571342818964561\n"
          ]
        }
      ]
    },
    {
      "cell_type": "markdown",
      "source": [
        "## 🐲 Dragonnet w. Targeted Regularization ϵ"
      ],
      "metadata": {
        "id": "dpf6S70cmKNb"
      }
    },
    {
      "cell_type": "code",
      "source": [
        "simple_errors_dragonnet = []\n",
        "tmle_errors_dragonnet = []\n",
        "knob = 'dragonnet'\n",
        "model = 'tarreg'\n",
        "train_test = 'train'\n",
        "\n",
        "for rep in range(n_replications):\n",
        "  q_t0, q_t1, g, t, y_dragon, index, eps = load_data(knob, rep, model, train_test)\n",
        "  a, b = load_truth(rep,knob)\n",
        "  mu_1, mu_0 = a[index], b[index]\n",
        "\n",
        "  truth = (mu_1 - mu_0).mean()\n",
        "\n",
        "  truncate_level=0.01\n",
        "  psi_n = psi_naive(q_t0, q_t1, g, t, y_dragon, truncate_level=truncate_level)\n",
        "  psi_tmle, psi_tmle_std, eps_hat, initial_loss, final_loss, g_loss = psi_tmle_cont_outcome(q_t0, q_t1, g, t,\n",
        "                                                                                              y_dragon,\n",
        "                                                                                              truncate_level=truncate_level)\n",
        "\n",
        "  err = abs(truth - psi_n).mean()\n",
        "  tmle_err = abs(truth - psi_tmle).mean()\n",
        "  simple_errors_dragonnet.append(err)\n",
        "  tmle_errors_dragonnet.append(tmle_err)\n",
        "\n",
        "dict[knob][model] = np.mean(simple_errors_dragonnet)\n",
        "tmle_dict[knob][model] = np.mean(tmle_errors_dragonnet)\n",
        "\n",
        "\n",
        "print('simple error:',dict[knob][model])\n",
        "print('tmle error:',tmle_dict[knob][model], ' with std: ',psi_tmle_std)"
      ],
      "metadata": {
        "colab": {
          "base_uri": "https://localhost:8080/"
        },
        "id": "4LJN5VmfmEhj",
        "outputId": "8107f4e9-6f9a-4bce-d50a-ea24447c477b"
      },
      "execution_count": 30,
      "outputs": [
        {
          "output_type": "stream",
          "name": "stdout",
          "text": [
            "simple error: 0.1022647360342491\n",
            "tmle error: 0.09516844502092496  with std:  0.15383959709771053\n"
          ]
        }
      ]
    },
    {
      "cell_type": "code",
      "source": [
        "dict"
      ],
      "metadata": {
        "colab": {
          "base_uri": "https://localhost:8080/"
        },
        "id": "Izrgu_c6w8RW",
        "outputId": "f6f041f1-9d12-40ba-9191-6a0335f82817"
      },
      "execution_count": 31,
      "outputs": [
        {
          "output_type": "execute_result",
          "data": {
            "text/plain": [
              "{'tarnet': {'baseline': {'back_door': 0}, 'tarreg': 0},\n",
              " 'dragonnet': {'baseline': 0.10990943195106677, 'tarreg': 0.1022647360342491},\n",
              " 'nednet': {'baseline': 0, 'tarreg': 0}}"
            ]
          },
          "metadata": {},
          "execution_count": 31
        }
      ]
    },
    {
      "cell_type": "code",
      "source": [
        "tmle_dict"
      ],
      "metadata": {
        "colab": {
          "base_uri": "https://localhost:8080/"
        },
        "id": "HU54qBsCyWsa",
        "outputId": "93799ec8-ffc1-42e1-dab8-b57276e122cf"
      },
      "execution_count": 32,
      "outputs": [
        {
          "output_type": "execute_result",
          "data": {
            "text/plain": [
              "{'tarnet': {'baseline': {'back_door': 0}, 'tarreg': 0},\n",
              " 'dragonnet': {'baseline': 0.11145082937551179, 'tarreg': 0.09516844502092496},\n",
              " 'nednet': {'baseline': 0, 'tarreg': 0}}"
            ]
          },
          "metadata": {},
          "execution_count": 32
        }
      ]
    },
    {
      "cell_type": "code",
      "source": [],
      "metadata": {
        "id": "-PlRWWkqyogT"
      },
      "execution_count": 32,
      "outputs": []
    },
    {
      "cell_type": "markdown",
      "source": [
        "# Comparing Dragonnet with other models TODO:"
      ],
      "metadata": {
        "id": "hhnSet0ZVKoP"
      }
    },
    {
      "cell_type": "markdown",
      "source": [
        "## Questions to be answered:\n",
        "\n",
        "Do Dragonnet and targeted regularization improve treatment effect estimation in practice? Dragonnet is a high-capacity model trained end-to-end: does it actually throw away\n",
        "information irrelevant to the propensity score? TMLE already offers an approach for balancing asymptotic guarantees with finite sample performance: does targeted regularization\n",
        "improve over this?"
      ],
      "metadata": {
        "id": "U6wGDb0BnbGA"
      }
    },
    {
      "cell_type": "markdown",
      "source": [
        "## 🎯 TARNET\n",
        "\n",
        "\n",
        "\n",
        "\n"
      ],
      "metadata": {
        "id": "mZrtwBrJHU1e"
      }
    },
    {
      "cell_type": "markdown",
      "source": [
        "### 1. Model architecture"
      ],
      "metadata": {
        "id": "KzX-7EhlJ4M5"
      }
    },
    {
      "cell_type": "markdown",
      "source": [
        "If the propensity-score head is removed from Dragonnet, the resulting architecture is TARNET"
      ],
      "metadata": {
        "id": "CYQch15WqtvO"
      }
    },
    {
      "cell_type": "code",
      "source": [
        "def make_tarnet(input_dim, reg_l2):\n",
        "\n",
        "    inputs = Input(shape=(input_dim,), name='input')\n",
        "\n",
        "    # representation\n",
        "    x = Dense(units=200, activation='elu', kernel_initializer='RandomNormal')(inputs)\n",
        "    x = Dense(units=200, activation='elu', kernel_initializer='RandomNormal')(x)\n",
        "    x = Dense(units=200, activation='elu', kernel_initializer='RandomNormal')(x)\n",
        "\n",
        "    # ---ONLY difference from dragonnet-------\n",
        "    t_predictions = Dense(units=1, activation='sigmoid')(inputs)\n",
        "    # --------------------------\n",
        "\n",
        "    # HYPOTHESIS\n",
        "    y0_hidden = Dense(units=100, activation='elu', kernel_regularizer=regularizers.l2(reg_l2))(x)\n",
        "    y1_hidden = Dense(units=100, activation='elu', kernel_regularizer=regularizers.l2(reg_l2))(x)\n",
        "\n",
        "    # second layer\n",
        "    y0_hidden = Dense(units=100, activation='elu', kernel_regularizer=regularizers.l2(reg_l2))(y0_hidden)\n",
        "    y1_hidden = Dense(units=100, activation='elu', kernel_regularizer=regularizers.l2(reg_l2))(y1_hidden)\n",
        "\n",
        "    # third\n",
        "    y0_predictions = Dense(units=1, activation=None, kernel_regularizer=regularizers.l2(reg_l2), name='y0_predictions')(\n",
        "        y0_hidden)\n",
        "    y1_predictions = Dense(units=1, activation=None, kernel_regularizer=regularizers.l2(reg_l2), name='y1_predictions')(\n",
        "        y1_hidden)\n",
        "\n",
        "    concat_pred = Concatenate(1)([y0_predictions, y1_predictions, t_predictions])\n",
        "    model = Model(inputs=inputs, outputs=concat_pred)\n",
        "\n",
        "    return model\n",
        "\n"
      ],
      "metadata": {
        "id": "lpeLNsNhKElB"
      },
      "execution_count": 33,
      "outputs": []
    },
    {
      "cell_type": "markdown",
      "source": [
        "### 2. fit the model"
      ],
      "metadata": {
        "id": "O4G8ymhNJ8q_"
      }
    },
    {
      "cell_type": "markdown",
      "source": [
        "\n",
        "\n",
        "> Note: the default code use all the data for prediction and estimation. If you want to get the in-sample or out-sample error:  change the train_test_split criteria.\n",
        "\n"
      ],
      "metadata": {
        "id": "PNlDJGiJP3Sl"
      }
    },
    {
      "cell_type": "code",
      "source": [
        "# Define the loss functions\n",
        "# minimize errors/loss for propensity score prediction (for exposure model)\n",
        "def binary_classification_loss(concat_true, concat_pred):\n",
        "    t_true = concat_true[:, 1]\n",
        "    t_pred = concat_pred[:, 2]\n",
        "    # stabilizing the training process by avoiding issues with logarithmic calculations\n",
        "    # in the next step (binary cross-entropy)\n",
        "    t_pred = (t_pred + 0.001) / 1.002\n",
        "    # Binary cross-entropy loss is a common choice for binary classification tasks\n",
        "    # it measures the \"distance\" between the actual t and the predicted t\n",
        "    losst = tf.reduce_sum(K.binary_crossentropy(t_true, t_pred))\n",
        "\n",
        "    return losst\n",
        "\n",
        "# minimize prediction errors separately for treated and untreated groups(for outcome model)\n",
        "def regression_loss(concat_true, concat_pred):\n",
        "    y_true = concat_true[:, 0]\n",
        "    t_true = concat_true[:, 1]\n",
        "\n",
        "    y0_pred = concat_pred[:, 0]\n",
        "    y1_pred = concat_pred[:, 1]\n",
        "\n",
        "    loss0 = tf.reduce_sum((1. - t_true) * tf.square(y_true - y0_pred))\n",
        "    loss1 = tf.reduce_sum(t_true * tf.square(y_true - y1_pred))\n",
        "\n",
        "    return loss0 + loss1\n",
        "\n",
        "\n",
        "# minimize both the prediction error for outcome + exposure models.\n",
        "def dragonnet_loss_binarycross(concat_true, concat_pred):\n",
        "    return regression_loss(concat_true, concat_pred) + binary_classification_loss(concat_true, concat_pred)\n",
        "\n",
        "\n",
        "def treatment_accuracy(concat_true, concat_pred):\n",
        "    t_true = concat_true[:, 1]\n",
        "    t_pred = concat_pred[:, 2]\n",
        "    return tf.keras.metrics.binary_accuracy(t_true, t_pred)\n",
        "\n",
        "\n",
        "\n"
      ],
      "metadata": {
        "id": "V5KEBFAzPwQa"
      },
      "execution_count": 34,
      "outputs": []
    },
    {
      "cell_type": "code",
      "source": [
        "# Define metrics\n",
        "metrics = [regression_loss, binary_classification_loss, treatment_accuracy]"
      ],
      "metadata": {
        "id": "YaE-7hULQLkL"
      },
      "execution_count": 35,
      "outputs": []
    },
    {
      "cell_type": "code",
      "source": [
        "# Helper function\n",
        "def _split_output(yt_hat, t, y, y_scaler, x, index):\n",
        "    q_t0 = y_scaler.inverse_transform(yt_hat[:, 0].reshape(-1, 1))\n",
        "    q_t1 = y_scaler.inverse_transform(yt_hat[:, 1].reshape(-1, 1))\n",
        "    g = yt_hat[:, 2].copy()\n",
        "\n",
        "    if yt_hat.shape[1] == 4:\n",
        "        eps = yt_hat[:, 3][0]\n",
        "        print('eps is trained')\n",
        "    else:\n",
        "        eps = np.zeros_like(yt_hat[:, 2])\n",
        "        print('eps will be zero')\n",
        "\n",
        "    y = y_scaler.inverse_transform(y.copy())\n",
        "    var = \"average propensity for treated: {} and untreated: {}\".format(g[t.squeeze() == 1.].mean(),\n",
        "                                                                        g[t.squeeze() == 0.].mean())\n",
        "    print(var)\n",
        "\n",
        "    # q_t0,q_t1 -> predicted outcomes under (0,1) treatment\n",
        "    # g -> predicted propensity score\n",
        "    # t -> treatment\n",
        "    # y -> original y before transformation\n",
        "    # index\n",
        "    # eps -> epsilon\n",
        "    return {'q_t0': q_t0, 'q_t1': q_t1, 'g': g, 't': t, 'y': y, 'x': x, 'index': index, 'eps': eps}\n"
      ],
      "metadata": {
        "id": "TdzKjVB1S8Ka"
      },
      "execution_count": 36,
      "outputs": []
    },
    {
      "cell_type": "code",
      "source": [
        "train_outputs = []\n",
        "test_outputs = []\n",
        "for idx, realization_data in enumerate(sorted(glob.glob(\"{}/*.npz\".format('/content/data_ihdp_clean')))):\n",
        "  # Prepare data for training (by default use all the data for train and prediction)\n",
        "  print(realization_data)\n",
        "  data = load(realization_data)\n",
        "  x, t, y_unscaled = data['x'], data['t'], data['y']\n",
        "  verbose = 0\n",
        "  # ********(1) Transform of Y outcome *****************\n",
        "  y_scaler = StandardScaler().fit(y_unscaled)\n",
        "  y = y_scaler.transform(y_unscaled)\n",
        "\n",
        "  i = 0\n",
        "  tf.random.set_seed(i)\n",
        "  np.random.seed(i)\n",
        "  train_index, test_index = train_test_split(np.arange(x.shape[0]), test_size=0.01, random_state=1)\n",
        "  test_index = train_index\n",
        "  print(\"Train indices shape:\", train_index.shape)\n",
        "\n",
        "  x_train, x_test = x[train_index], x[test_index]\n",
        "  y_train, y_test = y[train_index], y[test_index]\n",
        "  t_train, t_test = t[train_index], t[test_index]\n",
        "\n",
        "  # two column matrix col1 = y,col 2 = t\n",
        "  yt_train = np.concatenate([y_train, t_train], 1)\n",
        "\n",
        "  # ********(2) Model Configuration (G-comp) ******************\n",
        "  # Each takes the number of features (x.shape[1]) and a regularization parameter (0.01) as inputs.\n",
        "  tarnet = make_tarnet(x.shape[1], 0.01)\n",
        "\n",
        "  # Start training\n",
        "  import time;\n",
        "  start_time = time.time()\n",
        "  val_split = 0.2\n",
        "  batch_size = 64\n",
        "  loss = dragonnet_loss_binarycross\n",
        "  metrics = metrics\n",
        "\n",
        "\n",
        "  tarnet.compile(\n",
        "        optimizer=Adam(learning_rate=1e-3),\n",
        "        loss=loss, metrics=metrics)\n",
        "\n",
        "  adam_callbacks = [\n",
        "      TerminateOnNaN(),\n",
        "      EarlyStopping(monitor='val_loss', patience=2, min_delta=0.),\n",
        "      ReduceLROnPlateau(monitor='loss', factor=0.5, patience=5, verbose=verbose, mode='auto',\n",
        "                        min_delta=1e-8, cooldown=0, min_lr=0)\n",
        "\n",
        "  ]\n",
        "\n",
        "  tarnet.fit(x_train, yt_train, callbacks=adam_callbacks,\n",
        "                validation_split=val_split,\n",
        "                epochs=100,\n",
        "                batch_size=batch_size, verbose=verbose)\n",
        "\n",
        "  sgd_callbacks = [\n",
        "      TerminateOnNaN(),\n",
        "      EarlyStopping(monitor='val_loss', patience=40, min_delta=0.),\n",
        "      ReduceLROnPlateau(monitor='loss', factor=0.5, patience=5, verbose=verbose, mode='auto',\n",
        "                        min_delta=0., cooldown=0, min_lr=0)\n",
        "  ]\n",
        "\n",
        "  sgd_lr = 1e-5\n",
        "  momentum = 0.9\n",
        "  tarnet.compile(optimizer=SGD(learning_rate=sgd_lr, momentum=momentum, nesterov=True), loss=loss,\n",
        "                    metrics=metrics)\n",
        "  tarnet.fit(x_train, yt_train, callbacks=sgd_callbacks,\n",
        "                validation_split=val_split,\n",
        "                epochs=300,\n",
        "                batch_size=batch_size, verbose=verbose)\n",
        "\n",
        "  elapsed_time = time.time() - start_time\n",
        "  print(\"***************************** elapsed_time is: \", elapsed_time)\n",
        "\n",
        "  yt_hat_test = tarnet.predict(x_test)\n",
        "  print(\"yt_hat_test shape:\", yt_hat_test.shape)\n",
        "  yt_hat_train = tarnet.predict(x_train)\n",
        "  print(\"yt_hat_train shape:\", yt_hat_train.shape)\n",
        "\n",
        "  test_outputs += [_split_output(yt_hat_test, t_test, y_test, y_scaler, x_test, test_index)]\n",
        "  train_outputs += [_split_output(yt_hat_train, t_train, y_train, y_scaler, x_train, train_index)]\n"
      ],
      "metadata": {
        "colab": {
          "base_uri": "https://localhost:8080/",
          "height": 617
        },
        "id": "mFo5rZxaJ8O2",
        "outputId": "85fbe5a6-5d6d-4992-b966-878e155a275c",
        "collapsed": true
      },
      "execution_count": 37,
      "outputs": [
        {
          "output_type": "stream",
          "name": "stdout",
          "text": [
            "/content/data_ihdp_clean/simulation_0.npz\n",
            "Train indices shape: (739,)\n",
            "***************************** elapsed_time is:  23.790132999420166\n",
            "\u001b[1m24/24\u001b[0m \u001b[32m━━━━━━━━━━━━━━━━━━━━\u001b[0m\u001b[37m\u001b[0m \u001b[1m0s\u001b[0m 6ms/step\n",
            "yt_hat_test shape: (739, 3)\n",
            "\u001b[1m24/24\u001b[0m \u001b[32m━━━━━━━━━━━━━━━━━━━━\u001b[0m\u001b[37m\u001b[0m \u001b[1m0s\u001b[0m 2ms/step \n",
            "yt_hat_train shape: (739, 3)\n",
            "eps will be zero\n",
            "average propensity for treated: 0.2106078714132309 and untreated: 0.18235822021961212\n",
            "eps will be zero\n",
            "average propensity for treated: 0.2106078714132309 and untreated: 0.18235822021961212\n",
            "/content/data_ihdp_clean/simulation_1.npz\n",
            "Train indices shape: (739,)\n"
          ]
        },
        {
          "output_type": "error",
          "ename": "KeyboardInterrupt",
          "evalue": "",
          "traceback": [
            "\u001b[0;31m---------------------------------------------------------------------------\u001b[0m",
            "\u001b[0;31mKeyboardInterrupt\u001b[0m                         Traceback (most recent call last)",
            "\u001b[0;32m<ipython-input-37-7d200646e773>\u001b[0m in \u001b[0;36m<cell line: 3>\u001b[0;34m()\u001b[0m\n\u001b[1;32m     66\u001b[0m   tarnet.compile(optimizer=SGD(learning_rate=sgd_lr, momentum=momentum, nesterov=True), loss=loss,\n\u001b[1;32m     67\u001b[0m                     metrics=metrics)\n\u001b[0;32m---> 68\u001b[0;31m   tarnet.fit(x_train, yt_train, callbacks=sgd_callbacks,\n\u001b[0m\u001b[1;32m     69\u001b[0m                 \u001b[0mvalidation_split\u001b[0m\u001b[0;34m=\u001b[0m\u001b[0mval_split\u001b[0m\u001b[0;34m,\u001b[0m\u001b[0;34m\u001b[0m\u001b[0;34m\u001b[0m\u001b[0m\n\u001b[1;32m     70\u001b[0m                 \u001b[0mepochs\u001b[0m\u001b[0;34m=\u001b[0m\u001b[0;36m300\u001b[0m\u001b[0;34m,\u001b[0m\u001b[0;34m\u001b[0m\u001b[0;34m\u001b[0m\u001b[0m\n",
            "\u001b[0;32m/usr/local/lib/python3.10/dist-packages/keras/src/utils/traceback_utils.py\u001b[0m in \u001b[0;36merror_handler\u001b[0;34m(*args, **kwargs)\u001b[0m\n\u001b[1;32m    115\u001b[0m         \u001b[0mfiltered_tb\u001b[0m \u001b[0;34m=\u001b[0m \u001b[0;32mNone\u001b[0m\u001b[0;34m\u001b[0m\u001b[0;34m\u001b[0m\u001b[0m\n\u001b[1;32m    116\u001b[0m         \u001b[0;32mtry\u001b[0m\u001b[0;34m:\u001b[0m\u001b[0;34m\u001b[0m\u001b[0;34m\u001b[0m\u001b[0m\n\u001b[0;32m--> 117\u001b[0;31m             \u001b[0;32mreturn\u001b[0m \u001b[0mfn\u001b[0m\u001b[0;34m(\u001b[0m\u001b[0;34m*\u001b[0m\u001b[0margs\u001b[0m\u001b[0;34m,\u001b[0m \u001b[0;34m**\u001b[0m\u001b[0mkwargs\u001b[0m\u001b[0;34m)\u001b[0m\u001b[0;34m\u001b[0m\u001b[0;34m\u001b[0m\u001b[0m\n\u001b[0m\u001b[1;32m    118\u001b[0m         \u001b[0;32mexcept\u001b[0m \u001b[0mException\u001b[0m \u001b[0;32mas\u001b[0m \u001b[0me\u001b[0m\u001b[0;34m:\u001b[0m\u001b[0;34m\u001b[0m\u001b[0;34m\u001b[0m\u001b[0m\n\u001b[1;32m    119\u001b[0m             \u001b[0mfiltered_tb\u001b[0m \u001b[0;34m=\u001b[0m \u001b[0m_process_traceback_frames\u001b[0m\u001b[0;34m(\u001b[0m\u001b[0me\u001b[0m\u001b[0;34m.\u001b[0m\u001b[0m__traceback__\u001b[0m\u001b[0;34m)\u001b[0m\u001b[0;34m\u001b[0m\u001b[0;34m\u001b[0m\u001b[0m\n",
            "\u001b[0;32m/usr/local/lib/python3.10/dist-packages/keras/src/backend/tensorflow/trainer.py\u001b[0m in \u001b[0;36mfit\u001b[0;34m(self, x, y, batch_size, epochs, verbose, callbacks, validation_split, validation_data, shuffle, class_weight, sample_weight, initial_epoch, steps_per_epoch, validation_steps, validation_batch_size, validation_freq)\u001b[0m\n\u001b[1;32m    341\u001b[0m                         \u001b[0mshuffle\u001b[0m\u001b[0;34m=\u001b[0m\u001b[0;32mFalse\u001b[0m\u001b[0;34m,\u001b[0m\u001b[0;34m\u001b[0m\u001b[0;34m\u001b[0m\u001b[0m\n\u001b[1;32m    342\u001b[0m                     )\n\u001b[0;32m--> 343\u001b[0;31m                 val_logs = self.evaluate(\n\u001b[0m\u001b[1;32m    344\u001b[0m                     \u001b[0mx\u001b[0m\u001b[0;34m=\u001b[0m\u001b[0mval_x\u001b[0m\u001b[0;34m,\u001b[0m\u001b[0;34m\u001b[0m\u001b[0;34m\u001b[0m\u001b[0m\n\u001b[1;32m    345\u001b[0m                     \u001b[0my\u001b[0m\u001b[0;34m=\u001b[0m\u001b[0mval_y\u001b[0m\u001b[0;34m,\u001b[0m\u001b[0;34m\u001b[0m\u001b[0;34m\u001b[0m\u001b[0m\n",
            "\u001b[0;32m/usr/local/lib/python3.10/dist-packages/keras/src/utils/traceback_utils.py\u001b[0m in \u001b[0;36merror_handler\u001b[0;34m(*args, **kwargs)\u001b[0m\n\u001b[1;32m    115\u001b[0m         \u001b[0mfiltered_tb\u001b[0m \u001b[0;34m=\u001b[0m \u001b[0;32mNone\u001b[0m\u001b[0;34m\u001b[0m\u001b[0;34m\u001b[0m\u001b[0m\n\u001b[1;32m    116\u001b[0m         \u001b[0;32mtry\u001b[0m\u001b[0;34m:\u001b[0m\u001b[0;34m\u001b[0m\u001b[0;34m\u001b[0m\u001b[0m\n\u001b[0;32m--> 117\u001b[0;31m             \u001b[0;32mreturn\u001b[0m \u001b[0mfn\u001b[0m\u001b[0;34m(\u001b[0m\u001b[0;34m*\u001b[0m\u001b[0margs\u001b[0m\u001b[0;34m,\u001b[0m \u001b[0;34m**\u001b[0m\u001b[0mkwargs\u001b[0m\u001b[0;34m)\u001b[0m\u001b[0;34m\u001b[0m\u001b[0;34m\u001b[0m\u001b[0m\n\u001b[0m\u001b[1;32m    118\u001b[0m         \u001b[0;32mexcept\u001b[0m \u001b[0mException\u001b[0m \u001b[0;32mas\u001b[0m \u001b[0me\u001b[0m\u001b[0;34m:\u001b[0m\u001b[0;34m\u001b[0m\u001b[0;34m\u001b[0m\u001b[0m\n\u001b[1;32m    119\u001b[0m             \u001b[0mfiltered_tb\u001b[0m \u001b[0;34m=\u001b[0m \u001b[0m_process_traceback_frames\u001b[0m\u001b[0;34m(\u001b[0m\u001b[0me\u001b[0m\u001b[0;34m.\u001b[0m\u001b[0m__traceback__\u001b[0m\u001b[0;34m)\u001b[0m\u001b[0;34m\u001b[0m\u001b[0;34m\u001b[0m\u001b[0m\n",
            "\u001b[0;32m/usr/local/lib/python3.10/dist-packages/keras/src/backend/tensorflow/trainer.py\u001b[0m in \u001b[0;36mevaluate\u001b[0;34m(self, x, y, batch_size, verbose, sample_weight, steps, callbacks, return_dict, **kwargs)\u001b[0m\n\u001b[1;32m    423\u001b[0m         \u001b[0mcallbacks\u001b[0m\u001b[0;34m.\u001b[0m\u001b[0mon_test_begin\u001b[0m\u001b[0;34m(\u001b[0m\u001b[0;34m)\u001b[0m\u001b[0;34m\u001b[0m\u001b[0;34m\u001b[0m\u001b[0m\n\u001b[1;32m    424\u001b[0m         \u001b[0mlogs\u001b[0m \u001b[0;34m=\u001b[0m \u001b[0;32mNone\u001b[0m\u001b[0;34m\u001b[0m\u001b[0;34m\u001b[0m\u001b[0m\n\u001b[0;32m--> 425\u001b[0;31m         \u001b[0mself\u001b[0m\u001b[0;34m.\u001b[0m\u001b[0mreset_metrics\u001b[0m\u001b[0;34m(\u001b[0m\u001b[0;34m)\u001b[0m\u001b[0;34m\u001b[0m\u001b[0;34m\u001b[0m\u001b[0m\n\u001b[0m\u001b[1;32m    426\u001b[0m         \u001b[0;32mwith\u001b[0m \u001b[0mepoch_iterator\u001b[0m\u001b[0;34m.\u001b[0m\u001b[0mcatch_stop_iteration\u001b[0m\u001b[0;34m(\u001b[0m\u001b[0;34m)\u001b[0m\u001b[0;34m:\u001b[0m\u001b[0;34m\u001b[0m\u001b[0;34m\u001b[0m\u001b[0m\n\u001b[1;32m    427\u001b[0m             \u001b[0;32mfor\u001b[0m \u001b[0mstep\u001b[0m\u001b[0;34m,\u001b[0m \u001b[0miterator\u001b[0m \u001b[0;32min\u001b[0m \u001b[0mepoch_iterator\u001b[0m\u001b[0;34m.\u001b[0m\u001b[0menumerate_epoch\u001b[0m\u001b[0;34m(\u001b[0m\u001b[0;34m)\u001b[0m\u001b[0;34m:\u001b[0m\u001b[0;34m\u001b[0m\u001b[0;34m\u001b[0m\u001b[0m\n",
            "\u001b[0;32m/usr/local/lib/python3.10/dist-packages/keras/src/trainers/trainer.py\u001b[0m in \u001b[0;36mreset_metrics\u001b[0;34m(self)\u001b[0m\n\u001b[1;32m    259\u001b[0m     \u001b[0;32mdef\u001b[0m \u001b[0mreset_metrics\u001b[0m\u001b[0;34m(\u001b[0m\u001b[0mself\u001b[0m\u001b[0;34m)\u001b[0m\u001b[0;34m:\u001b[0m\u001b[0;34m\u001b[0m\u001b[0;34m\u001b[0m\u001b[0m\n\u001b[1;32m    260\u001b[0m         \u001b[0;32mfor\u001b[0m \u001b[0mm\u001b[0m \u001b[0;32min\u001b[0m \u001b[0mself\u001b[0m\u001b[0;34m.\u001b[0m\u001b[0mmetrics\u001b[0m\u001b[0;34m:\u001b[0m\u001b[0;34m\u001b[0m\u001b[0;34m\u001b[0m\u001b[0m\n\u001b[0;32m--> 261\u001b[0;31m             \u001b[0mm\u001b[0m\u001b[0;34m.\u001b[0m\u001b[0mreset_state\u001b[0m\u001b[0;34m(\u001b[0m\u001b[0;34m)\u001b[0m\u001b[0;34m\u001b[0m\u001b[0;34m\u001b[0m\u001b[0m\n\u001b[0m\u001b[1;32m    262\u001b[0m \u001b[0;34m\u001b[0m\u001b[0m\n\u001b[1;32m    263\u001b[0m     def compute_loss(\n",
            "\u001b[0;32m/usr/local/lib/python3.10/dist-packages/keras/src/trainers/compile_utils.py\u001b[0m in \u001b[0;36mreset_state\u001b[0;34m(self)\u001b[0m\n\u001b[1;32m    347\u001b[0m         \u001b[0;32mfor\u001b[0m \u001b[0mm\u001b[0m \u001b[0;32min\u001b[0m \u001b[0mself\u001b[0m\u001b[0;34m.\u001b[0m\u001b[0m_flat_metrics\u001b[0m\u001b[0;34m:\u001b[0m\u001b[0;34m\u001b[0m\u001b[0;34m\u001b[0m\u001b[0m\n\u001b[1;32m    348\u001b[0m             \u001b[0;32mif\u001b[0m \u001b[0mm\u001b[0m\u001b[0;34m:\u001b[0m\u001b[0;34m\u001b[0m\u001b[0;34m\u001b[0m\u001b[0m\n\u001b[0;32m--> 349\u001b[0;31m                 \u001b[0mm\u001b[0m\u001b[0;34m.\u001b[0m\u001b[0mreset_state\u001b[0m\u001b[0;34m(\u001b[0m\u001b[0;34m)\u001b[0m\u001b[0;34m\u001b[0m\u001b[0;34m\u001b[0m\u001b[0m\n\u001b[0m\u001b[1;32m    350\u001b[0m         \u001b[0;32mfor\u001b[0m \u001b[0mm\u001b[0m \u001b[0;32min\u001b[0m \u001b[0mself\u001b[0m\u001b[0;34m.\u001b[0m\u001b[0m_flat_weighted_metrics\u001b[0m\u001b[0;34m:\u001b[0m\u001b[0;34m\u001b[0m\u001b[0;34m\u001b[0m\u001b[0m\n\u001b[1;32m    351\u001b[0m             \u001b[0;32mif\u001b[0m \u001b[0mm\u001b[0m\u001b[0;34m:\u001b[0m\u001b[0;34m\u001b[0m\u001b[0;34m\u001b[0m\u001b[0m\n",
            "\u001b[0;32m/usr/local/lib/python3.10/dist-packages/keras/src/trainers/compile_utils.py\u001b[0m in \u001b[0;36mreset_state\u001b[0;34m(self)\u001b[0m\n\u001b[1;32m     19\u001b[0m     \u001b[0;32mdef\u001b[0m \u001b[0mreset_state\u001b[0m\u001b[0;34m(\u001b[0m\u001b[0mself\u001b[0m\u001b[0;34m)\u001b[0m\u001b[0;34m:\u001b[0m\u001b[0;34m\u001b[0m\u001b[0;34m\u001b[0m\u001b[0m\n\u001b[1;32m     20\u001b[0m         \u001b[0;32mfor\u001b[0m \u001b[0mm\u001b[0m \u001b[0;32min\u001b[0m \u001b[0mself\u001b[0m\u001b[0;34m.\u001b[0m\u001b[0mmetrics\u001b[0m\u001b[0;34m:\u001b[0m\u001b[0;34m\u001b[0m\u001b[0;34m\u001b[0m\u001b[0m\n\u001b[0;32m---> 21\u001b[0;31m             \u001b[0mm\u001b[0m\u001b[0;34m.\u001b[0m\u001b[0mreset_state\u001b[0m\u001b[0;34m(\u001b[0m\u001b[0;34m)\u001b[0m\u001b[0;34m\u001b[0m\u001b[0;34m\u001b[0m\u001b[0m\n\u001b[0m\u001b[1;32m     22\u001b[0m \u001b[0;34m\u001b[0m\u001b[0m\n\u001b[1;32m     23\u001b[0m     \u001b[0;32mdef\u001b[0m \u001b[0mget_result\u001b[0m\u001b[0;34m(\u001b[0m\u001b[0mself\u001b[0m\u001b[0;34m)\u001b[0m\u001b[0;34m:\u001b[0m\u001b[0;34m\u001b[0m\u001b[0;34m\u001b[0m\u001b[0m\n",
            "\u001b[0;32m/usr/local/lib/python3.10/dist-packages/keras/src/metrics/reduction_metrics.py\u001b[0m in \u001b[0;36mreset_state\u001b[0;34m(self)\u001b[0m\n\u001b[1;32m    151\u001b[0m \u001b[0;34m\u001b[0m\u001b[0m\n\u001b[1;32m    152\u001b[0m     \u001b[0;32mdef\u001b[0m \u001b[0mreset_state\u001b[0m\u001b[0;34m(\u001b[0m\u001b[0mself\u001b[0m\u001b[0;34m)\u001b[0m\u001b[0;34m:\u001b[0m\u001b[0;34m\u001b[0m\u001b[0;34m\u001b[0m\u001b[0m\n\u001b[0;32m--> 153\u001b[0;31m         \u001b[0mself\u001b[0m\u001b[0;34m.\u001b[0m\u001b[0mtotal\u001b[0m\u001b[0;34m.\u001b[0m\u001b[0massign\u001b[0m\u001b[0;34m(\u001b[0m\u001b[0;36m0.0\u001b[0m\u001b[0;34m)\u001b[0m\u001b[0;34m\u001b[0m\u001b[0;34m\u001b[0m\u001b[0m\n\u001b[0m\u001b[1;32m    154\u001b[0m         \u001b[0mself\u001b[0m\u001b[0;34m.\u001b[0m\u001b[0mcount\u001b[0m\u001b[0;34m.\u001b[0m\u001b[0massign\u001b[0m\u001b[0;34m(\u001b[0m\u001b[0;36m0\u001b[0m\u001b[0;34m)\u001b[0m\u001b[0;34m\u001b[0m\u001b[0;34m\u001b[0m\u001b[0m\n\u001b[1;32m    155\u001b[0m \u001b[0;34m\u001b[0m\u001b[0m\n",
            "\u001b[0;32m/usr/local/lib/python3.10/dist-packages/keras/src/backend/common/variables.py\u001b[0m in \u001b[0;36massign\u001b[0;34m(self, value)\u001b[0m\n\u001b[1;32m    236\u001b[0m             \u001b[0mscope\u001b[0m\u001b[0;34m.\u001b[0m\u001b[0madd_update\u001b[0m\u001b[0;34m(\u001b[0m\u001b[0;34m(\u001b[0m\u001b[0mself\u001b[0m\u001b[0;34m,\u001b[0m \u001b[0mvalue\u001b[0m\u001b[0;34m)\u001b[0m\u001b[0;34m)\u001b[0m\u001b[0;34m\u001b[0m\u001b[0;34m\u001b[0m\u001b[0m\n\u001b[1;32m    237\u001b[0m         \u001b[0;32melse\u001b[0m\u001b[0;34m:\u001b[0m\u001b[0;34m\u001b[0m\u001b[0;34m\u001b[0m\u001b[0m\n\u001b[0;32m--> 238\u001b[0;31m             \u001b[0mself\u001b[0m\u001b[0;34m.\u001b[0m\u001b[0m_direct_assign\u001b[0m\u001b[0;34m(\u001b[0m\u001b[0mvalue\u001b[0m\u001b[0;34m)\u001b[0m\u001b[0;34m\u001b[0m\u001b[0;34m\u001b[0m\u001b[0m\n\u001b[0m\u001b[1;32m    239\u001b[0m \u001b[0;34m\u001b[0m\u001b[0m\n\u001b[1;32m    240\u001b[0m     \u001b[0;32mdef\u001b[0m \u001b[0massign_add\u001b[0m\u001b[0;34m(\u001b[0m\u001b[0mself\u001b[0m\u001b[0;34m,\u001b[0m \u001b[0mvalue\u001b[0m\u001b[0;34m)\u001b[0m\u001b[0;34m:\u001b[0m\u001b[0;34m\u001b[0m\u001b[0;34m\u001b[0m\u001b[0m\n",
            "\u001b[0;32m/usr/local/lib/python3.10/dist-packages/keras/src/backend/tensorflow/core.py\u001b[0m in \u001b[0;36m_direct_assign\u001b[0;34m(self, value)\u001b[0m\n\u001b[1;32m     49\u001b[0m \u001b[0;34m\u001b[0m\u001b[0m\n\u001b[1;32m     50\u001b[0m     \u001b[0;32mdef\u001b[0m \u001b[0m_direct_assign\u001b[0m\u001b[0;34m(\u001b[0m\u001b[0mself\u001b[0m\u001b[0;34m,\u001b[0m \u001b[0mvalue\u001b[0m\u001b[0;34m)\u001b[0m\u001b[0;34m:\u001b[0m\u001b[0;34m\u001b[0m\u001b[0;34m\u001b[0m\u001b[0m\n\u001b[0;32m---> 51\u001b[0;31m         \u001b[0mself\u001b[0m\u001b[0;34m.\u001b[0m\u001b[0m_value\u001b[0m\u001b[0;34m.\u001b[0m\u001b[0massign\u001b[0m\u001b[0;34m(\u001b[0m\u001b[0mtf\u001b[0m\u001b[0;34m.\u001b[0m\u001b[0mcast\u001b[0m\u001b[0;34m(\u001b[0m\u001b[0mvalue\u001b[0m\u001b[0;34m,\u001b[0m \u001b[0mself\u001b[0m\u001b[0;34m.\u001b[0m\u001b[0m_value\u001b[0m\u001b[0;34m.\u001b[0m\u001b[0mdtype\u001b[0m\u001b[0;34m)\u001b[0m\u001b[0;34m)\u001b[0m\u001b[0;34m\u001b[0m\u001b[0;34m\u001b[0m\u001b[0m\n\u001b[0m\u001b[1;32m     52\u001b[0m \u001b[0;34m\u001b[0m\u001b[0m\n\u001b[1;32m     53\u001b[0m     \u001b[0;32mdef\u001b[0m \u001b[0m_convert_to_tensor\u001b[0m\u001b[0;34m(\u001b[0m\u001b[0mself\u001b[0m\u001b[0;34m,\u001b[0m \u001b[0mvalue\u001b[0m\u001b[0;34m,\u001b[0m \u001b[0mdtype\u001b[0m\u001b[0;34m=\u001b[0m\u001b[0;32mNone\u001b[0m\u001b[0;34m)\u001b[0m\u001b[0;34m:\u001b[0m\u001b[0;34m\u001b[0m\u001b[0;34m\u001b[0m\u001b[0m\n",
            "\u001b[0;32m/usr/local/lib/python3.10/dist-packages/tensorflow/python/ops/resource_variable_ops.py\u001b[0m in \u001b[0;36massign\u001b[0;34m(self, value, use_locking, name, read_value)\u001b[0m\n\u001b[1;32m   1034\u001b[0m     \u001b[0;32mwith\u001b[0m \u001b[0m_handle_graph\u001b[0m\u001b[0;34m(\u001b[0m\u001b[0mself\u001b[0m\u001b[0;34m.\u001b[0m\u001b[0mhandle\u001b[0m\u001b[0;34m)\u001b[0m\u001b[0;34m:\u001b[0m\u001b[0;34m\u001b[0m\u001b[0;34m\u001b[0m\u001b[0m\n\u001b[1;32m   1035\u001b[0m       \u001b[0mvalue_tensor\u001b[0m \u001b[0;34m=\u001b[0m \u001b[0mops\u001b[0m\u001b[0;34m.\u001b[0m\u001b[0mconvert_to_tensor\u001b[0m\u001b[0;34m(\u001b[0m\u001b[0mvalue\u001b[0m\u001b[0;34m,\u001b[0m \u001b[0mdtype\u001b[0m\u001b[0;34m=\u001b[0m\u001b[0mself\u001b[0m\u001b[0;34m.\u001b[0m\u001b[0mdtype\u001b[0m\u001b[0;34m)\u001b[0m\u001b[0;34m\u001b[0m\u001b[0;34m\u001b[0m\u001b[0m\n\u001b[0;32m-> 1036\u001b[0;31m       \u001b[0;32mif\u001b[0m \u001b[0;32mnot\u001b[0m \u001b[0mself\u001b[0m\u001b[0;34m.\u001b[0m\u001b[0m_shape\u001b[0m\u001b[0;34m.\u001b[0m\u001b[0mis_compatible_with\u001b[0m\u001b[0;34m(\u001b[0m\u001b[0mvalue_tensor\u001b[0m\u001b[0;34m.\u001b[0m\u001b[0mshape\u001b[0m\u001b[0;34m)\u001b[0m\u001b[0;34m:\u001b[0m\u001b[0;34m\u001b[0m\u001b[0;34m\u001b[0m\u001b[0m\n\u001b[0m\u001b[1;32m   1037\u001b[0m         \u001b[0;32mif\u001b[0m \u001b[0mself\u001b[0m\u001b[0;34m.\u001b[0m\u001b[0mname\u001b[0m \u001b[0;32mis\u001b[0m \u001b[0;32mNone\u001b[0m\u001b[0;34m:\u001b[0m\u001b[0;34m\u001b[0m\u001b[0;34m\u001b[0m\u001b[0m\n\u001b[1;32m   1038\u001b[0m           \u001b[0mtensor_name\u001b[0m \u001b[0;34m=\u001b[0m \u001b[0;34m\"\"\u001b[0m\u001b[0;34m\u001b[0m\u001b[0;34m\u001b[0m\u001b[0m\n",
            "\u001b[0;31mKeyboardInterrupt\u001b[0m: "
          ]
        }
      ]
    },
    {
      "cell_type": "code",
      "source": [
        "  # save the outputs of for each split (1 per npz file)\n",
        "  train_output_dir = '/content/train_output_ihdp/tarnet/baseline'\n",
        "  if not os.path.exists(train_output_dir):\n",
        "      os.makedirs(train_output_dir)\n",
        "\n",
        "  for num, output in enumerate(test_outputs):\n",
        "      np.savez_compressed(os.path.join(train_output_dir, \"{}_replication_test.npz\".format(num)),\n",
        "                          **output)\n",
        "\n",
        "  for num, output in enumerate(train_outputs):\n",
        "      np.savez_compressed(os.path.join(train_output_dir, \"{}_replication_train.npz\".format(num)),\n",
        "                          **output)"
      ],
      "metadata": {
        "id": "bE4e4luCQe3L"
      },
      "execution_count": null,
      "outputs": []
    },
    {
      "cell_type": "code",
      "source": [
        "K.clear_session()"
      ],
      "metadata": {
        "id": "1h81DKg-YSwz"
      },
      "execution_count": null,
      "outputs": []
    },
    {
      "cell_type": "markdown",
      "source": [
        "### estimate ATE"
      ],
      "metadata": {
        "id": "IR_MdYPnqkza"
      }
    },
    {
      "cell_type": "code",
      "source": [
        "simple_errors_tarnet = []\n",
        "tmle_errors_tarnet = []\n",
        "knob = 'tarnet'\n",
        "model = 'baseline'\n",
        "train_test = 'train'\n",
        "\n",
        "for rep in range(n_replications):\n",
        "  q_t0, q_t1, g, t, y_dragon, index, eps = load_data(knob, rep, model, train_test)\n",
        "  a, b = load_truth(rep,knob)\n",
        "  mu_1, mu_0 = a[index], b[index]\n",
        "\n",
        "  truth = (mu_1 - mu_0).mean()\n",
        "\n",
        "  truncate_level=0.01\n",
        "  psi_n = psi_naive(q_t0, q_t1, g, t, y_dragon, truncate_level=truncate_level)\n",
        "  psi_tmle, psi_tmle_std, eps_hat, initial_loss, final_loss, g_loss = psi_tmle_cont_outcome(q_t0, q_t1, g, t,\n",
        "                                                                                              y_dragon,\n",
        "                                                                                              truncate_level=truncate_level)\n",
        "\n",
        "  err = abs(truth - psi_n).mean()\n",
        "  tmle_err = abs(truth - psi_tmle).mean()\n",
        "  simple_errors_tarnet.append(err)\n",
        "  tmle_errors_tarnet.append(tmle_err)\n",
        "\n",
        "dict[knob][model] = np.mean(simple_errors_tarnet)\n",
        "tmle_dict[knob][model] = np.mean(tmle_errors_tarnet)\n",
        "\n",
        "\n",
        "print('simple error:',dict[knob][model])\n",
        "print('tmle error:',tmle_dict[knob][model], ' with std: ',psi_tmle_std)\n"
      ],
      "metadata": {
        "id": "fndUplcsR-1b"
      },
      "execution_count": null,
      "outputs": []
    },
    {
      "cell_type": "markdown",
      "source": [
        "## 🎯 TARNET w. Targeted Regularization ϵ"
      ],
      "metadata": {
        "id": "RYHWBRWwVdwt"
      }
    },
    {
      "cell_type": "markdown",
      "source": [
        "### 1. Model architecture"
      ],
      "metadata": {
        "id": "cZlg-PvdVvtW"
      }
    },
    {
      "cell_type": "code",
      "source": [
        "def make_tarnet_tmle(input_dim, reg_l2):\n",
        "\n",
        "    inputs = Input(shape=(input_dim,), name='input')\n",
        "\n",
        "    # representation\n",
        "    x = Dense(units=200, activation='elu', kernel_initializer='RandomNormal')(inputs)\n",
        "    x = Dense(units=200, activation='elu', kernel_initializer='RandomNormal')(x)\n",
        "    x = Dense(units=200, activation='elu', kernel_initializer='RandomNormal')(x)\n",
        "\n",
        "    t_predictions = Dense(units=1, activation='sigmoid')(inputs)\n",
        "\n",
        "    # HYPOTHESIS\n",
        "    y0_hidden = Dense(units=100, activation='elu', kernel_regularizer=regularizers.l2(reg_l2))(x)\n",
        "    y1_hidden = Dense(units=100, activation='elu', kernel_regularizer=regularizers.l2(reg_l2))(x)\n",
        "\n",
        "    # second layer\n",
        "    y0_hidden = Dense(units=100, activation='elu', kernel_regularizer=regularizers.l2(reg_l2))(y0_hidden)\n",
        "    y1_hidden = Dense(units=100, activation='elu', kernel_regularizer=regularizers.l2(reg_l2))(y1_hidden)\n",
        "\n",
        "    # third\n",
        "    y0_predictions = Dense(units=1, activation=None, kernel_regularizer=regularizers.l2(reg_l2), name='y0_predictions')(\n",
        "        y0_hidden)\n",
        "    y1_predictions = Dense(units=1, activation=None, kernel_regularizer=regularizers.l2(reg_l2), name='y1_predictions')(\n",
        "        y1_hidden)\n",
        "\n",
        "    # ***** epsilon layer - look into the class ****\n",
        "    dl = EpsilonLayer()\n",
        "    # init this layer to make sure each element in the batch of t_predictions\n",
        "    # will multiply the scalar value epsilon (trainable parameter) defult is 1\n",
        "    epsilons = dl(t_predictions, name='epsilon')\n",
        "    concat_pred = Concatenate(1)([y0_predictions, y1_predictions, t_predictions, epsilons])\n",
        "\n",
        "    model = Model(inputs=inputs, outputs=concat_pred)\n",
        "\n",
        "    return model\n",
        "\n"
      ],
      "metadata": {
        "id": "vabQUT7XVlpr"
      },
      "execution_count": null,
      "outputs": []
    },
    {
      "cell_type": "markdown",
      "source": [
        "### 2. fit the model"
      ],
      "metadata": {
        "id": "9TngtuwvWdt7"
      }
    },
    {
      "cell_type": "code",
      "source": [
        "# Define the loss functions\n",
        "# minimize errors/loss for propensity score prediction (for exposure model)\n",
        "def binary_classification_loss(concat_true, concat_pred):\n",
        "    t_true = concat_true[:, 1]\n",
        "    t_pred = concat_pred[:, 2]\n",
        "    # stabilizing the training process by avoiding issues with logarithmic calculations\n",
        "    # in the next step (binary cross-entropy)\n",
        "    t_pred = (t_pred + 0.001) / 1.002\n",
        "    # Binary cross-entropy loss is a common choice for binary classification tasks\n",
        "    # it measures the \"distance\" between the actual t and the predicted t\n",
        "    losst = tf.reduce_sum(K.binary_crossentropy(t_true, t_pred))\n",
        "\n",
        "    return losst\n",
        "\n",
        "# minimize prediction errors separately for treated and untreated groups(for outcome model)\n",
        "def regression_loss(concat_true, concat_pred):\n",
        "    y_true = concat_true[:, 0]\n",
        "    t_true = concat_true[:, 1]\n",
        "\n",
        "    y0_pred = concat_pred[:, 0]\n",
        "    y1_pred = concat_pred[:, 1]\n",
        "\n",
        "    loss0 = tf.reduce_sum((1. - t_true) * tf.square(y_true - y0_pred))\n",
        "    loss1 = tf.reduce_sum(t_true * tf.square(y_true - y1_pred))\n",
        "\n",
        "    return loss0 + loss1\n",
        "\n",
        "\n",
        "# minimize both the prediction error for outcome + exposure models.\n",
        "def dragonnet_loss_binarycross(concat_true, concat_pred):\n",
        "    return regression_loss(concat_true, concat_pred) + binary_classification_loss(concat_true, concat_pred)\n",
        "\n",
        "\n",
        "\n",
        "def treatment_accuracy(concat_true, concat_pred):\n",
        "    t_true = concat_true[:, 1]\n",
        "    t_pred = concat_pred[:, 2]\n",
        "    return tf.keras.metrics.binary_accuracy(t_true, t_pred)\n",
        "\n",
        "\n"
      ],
      "metadata": {
        "id": "glqTe3ndWeN5"
      },
      "execution_count": null,
      "outputs": []
    },
    {
      "cell_type": "code",
      "source": [
        "# NEW LOSS FUNCTION!!!! for Tarreg\n",
        "\n",
        "#  This loss function combines a typical prediction loss (dragonnet_loss_binarycross)\n",
        "#  with a targeted regularization term\n",
        "#  that adjusts predictions based on the influence of\n",
        "#  propensity score H + epsilon (trainable param)\n",
        "def make_tarreg_loss(ratio=1., dragonnet_loss=dragonnet_loss_binarycross):\n",
        "    def tarreg_ATE_unbounded_domain_loss(concat_true, concat_pred):\n",
        "        vanilla_loss = dragonnet_loss(concat_true, concat_pred)\n",
        "\n",
        "        y_true = concat_true[:, 0]\n",
        "        t_true = concat_true[:, 1]\n",
        "\n",
        "        y0_pred = concat_pred[:, 0]\n",
        "        y1_pred = concat_pred[:, 1]\n",
        "        t_pred = concat_pred[:, 2]\n",
        "\n",
        "        epsilons = concat_pred[:, 3]\n",
        "        t_pred = (t_pred + 0.01) / 1.02\n",
        "        # t_pred = tf.clip_by_value(t_pred,0.01, 0.99,name='t_pred')\n",
        "\n",
        "        y_pred = t_true * y1_pred + (1 - t_true) * y0_pred\n",
        "\n",
        "        # ********* (4) Computing H - the influence of propensity score (treatment probability)\n",
        "        #  on the perturbation. ******\n",
        "        h = t_true / t_pred - (1 - t_true) / (1 - t_pred)\n",
        "        # ********* Perturbed Outcomes - adjusts the\n",
        "        # raw predictions based on the estimated treatment effect and the learned epsilon. ***********\n",
        "        y_pert = y_pred + epsilons * h\n",
        "\n",
        "        targeted_regularization = tf.reduce_sum(tf.square(y_true - y_pert))\n",
        "\n",
        "        # final\n",
        "        loss = vanilla_loss + ratio * targeted_regularization\n",
        "        return loss\n",
        "\n",
        "    return tarreg_ATE_unbounded_domain_loss\n",
        "\n"
      ],
      "metadata": {
        "id": "pYnuIHUNXEtR"
      },
      "execution_count": null,
      "outputs": []
    },
    {
      "cell_type": "code",
      "source": [
        "# Define metrics\n",
        "\n",
        "# New Metric!!!\n",
        "# compute the average absolute value of epsilons\n",
        "# across batches of data during training or evaluation\n",
        "# monitor or track how large the epsilon values are,\n",
        "# on average, across batches of data during training or evaluation\n",
        "def track_epsilon(concat_true, concat_pred):\n",
        "    epsilons = concat_pred[:, 3]\n",
        "    return tf.abs(tf.reduce_mean(epsilons))\n",
        "\n",
        "metrics = [regression_loss, binary_classification_loss, treatment_accuracy, track_epsilon]"
      ],
      "metadata": {
        "id": "70kIncZyWeN5"
      },
      "execution_count": null,
      "outputs": []
    },
    {
      "cell_type": "code",
      "source": [
        "# Helper function\n",
        "def _split_output(yt_hat, t, y, y_scaler, x, index):\n",
        "    q_t0 = y_scaler.inverse_transform(yt_hat[:, 0].reshape(-1, 1))\n",
        "    q_t1 = y_scaler.inverse_transform(yt_hat[:, 1].reshape(-1, 1))\n",
        "    g = yt_hat[:, 2].copy()\n",
        "\n",
        "    if yt_hat.shape[1] == 4:\n",
        "        eps = yt_hat[:, 3][0]\n",
        "        print('eps is trained')\n",
        "        print(eps)\n",
        "    else:\n",
        "        eps = np.zeros_like(yt_hat[:, 2])\n",
        "        print('eps will be zero')\n",
        "        print(eps)\n",
        "\n",
        "    y = y_scaler.inverse_transform(y.copy())\n",
        "    var = \"average propensity for treated: {} and untreated: {}\".format(g[t.squeeze() == 1.].mean(),\n",
        "                                                                        g[t.squeeze() == 0.].mean())\n",
        "    print(var)\n",
        "\n",
        "    # q_t0,q_t1 -> predicted outcomes under (0,1) treatment\n",
        "    # g -> predicted propensity score\n",
        "    # t -> treatment\n",
        "    # y -> original y before transformation\n",
        "    # index\n",
        "    # eps -> epsilon\n",
        "    return {'q_t0': q_t0, 'q_t1': q_t1, 'g': g, 't': t, 'y': y, 'x': x, 'index': index, 'eps': eps}\n"
      ],
      "metadata": {
        "id": "7MvO5rQVY5ho"
      },
      "execution_count": null,
      "outputs": []
    },
    {
      "cell_type": "code",
      "source": [
        "train_outputs = []\n",
        "test_outputs = []\n",
        "\n",
        "for idx, realization_data in enumerate(sorted(glob.glob(\"{}/*.npz\".format('/content/data_ihdp_clean')))):\n",
        "  # Prepare data for training (by default use all the data for train and prediction)\n",
        "  print(realization_data)\n",
        "  data = load(realization_data)\n",
        "  x, t, y_unscaled = data['x'], data['t'], data['y']\n",
        "  verbose = 0\n",
        "  # ********(1) Transform of Y outcome *****************\n",
        "  y_scaler = StandardScaler().fit(y_unscaled)\n",
        "  y = y_scaler.transform(y_unscaled)\n",
        "\n",
        "  i = 0\n",
        "  tf.random.set_seed(i)\n",
        "  np.random.seed(i)\n",
        "  train_index, test_index = train_test_split(np.arange(x.shape[0]), test_size=0.01, random_state=1)\n",
        "  test_index = train_index\n",
        "\n",
        "  x_train, x_test = x[train_index], x[test_index]\n",
        "  y_train, y_test = y[train_index], y[test_index]\n",
        "  t_train, t_test = t[train_index], t[test_index]\n",
        "\n",
        "  # two column matrix col1 = y,col 2 = t\n",
        "  yt_train = np.concatenate([y_train, t_train], 1)\n",
        "\n",
        "  # ********(2) Model Configuration (G-comp) ******************\n",
        "  # Each takes the number of features (x.shape[1]) and a regularization parameter (0.01) as inputs.\n",
        "  tarnet = make_tarnet_tmle(x.shape[1], 0.01)\n",
        "\n",
        "  # Start training\n",
        "  import time;\n",
        "  start_time = time.time()\n",
        "  val_split = 0.2\n",
        "  batch_size = 64\n",
        "  # ------------DIFF---------------------\n",
        "  ratio = 1.0\n",
        "  loss = make_tarreg_loss(ratio=ratio, dragonnet_loss=dragonnet_loss_binarycross)\n",
        "  # ------------DIFF---------------------\n",
        "  metrics = metrics\n",
        "\n",
        "\n",
        "  tarnet.compile(\n",
        "        optimizer=Adam(learning_rate=1e-3),\n",
        "        loss=loss, metrics=metrics)\n",
        "\n",
        "  adam_callbacks = [\n",
        "      TerminateOnNaN(),\n",
        "      EarlyStopping(monitor='val_loss', patience=2, min_delta=0.),\n",
        "      ReduceLROnPlateau(monitor='loss', factor=0.5, patience=5, verbose=verbose, mode='auto',\n",
        "                        min_delta=1e-8, cooldown=0, min_lr=0)\n",
        "\n",
        "  ]\n",
        "\n",
        "  tarnet.fit(x_train, yt_train, callbacks=adam_callbacks,\n",
        "                validation_split=val_split,\n",
        "                epochs=100,\n",
        "                batch_size=batch_size, verbose=verbose)\n",
        "\n",
        "  sgd_callbacks = [\n",
        "      TerminateOnNaN(),\n",
        "      EarlyStopping(monitor='val_loss', patience=40, min_delta=0.),\n",
        "      ReduceLROnPlateau(monitor='loss', factor=0.5, patience=5, verbose=verbose, mode='auto',\n",
        "                        min_delta=0., cooldown=0, min_lr=0)\n",
        "  ]\n",
        "\n",
        "  sgd_lr = 1e-5\n",
        "  momentum = 0.9\n",
        "  tarnet.compile(optimizer=SGD(learning_rate=sgd_lr, momentum=momentum, nesterov=True), loss=loss,\n",
        "                    metrics=metrics)\n",
        "  tarnet.fit(x_train, yt_train, callbacks=sgd_callbacks,\n",
        "                validation_split=val_split,\n",
        "                epochs=300,\n",
        "                batch_size=batch_size, verbose=verbose)\n",
        "\n",
        "  elapsed_time = time.time() - start_time\n",
        "  print(\"***************************** elapsed_time is: \", elapsed_time)\n",
        "\n",
        "  yt_hat_test = tarnet.predict(x_test)\n",
        "  yt_hat_train = tarnet.predict(x_train)\n",
        "\n",
        "  test_outputs += [_split_output(yt_hat_test, t_test, y_test, y_scaler, x_test, test_index)]\n",
        "  train_outputs += [_split_output(yt_hat_train, t_train, y_train, y_scaler, x_train, train_index)]\n"
      ],
      "metadata": {
        "id": "iGWy3f19WwCt"
      },
      "execution_count": null,
      "outputs": []
    },
    {
      "cell_type": "code",
      "source": [
        "# save the outputs of for each split (1 per npz file)\n",
        "train_output_dir = '/content/train_output_ihdp/tarnet/tarreg'\n",
        "if not os.path.exists(train_output_dir):\n",
        "    os.makedirs(train_output_dir)\n",
        "\n",
        "for num, output in enumerate(test_outputs):\n",
        "    np.savez_compressed(os.path.join(train_output_dir, \"{}_replication_test.npz\".format(num)),\n",
        "                        **output)\n",
        "\n",
        "for num, output in enumerate(train_outputs):\n",
        "    np.savez_compressed(os.path.join(train_output_dir, \"{}_replication_train.npz\".format(num)),\n",
        "                        **output)"
      ],
      "metadata": {
        "id": "fhUxxfWQWwCu"
      },
      "execution_count": null,
      "outputs": []
    },
    {
      "cell_type": "code",
      "source": [
        "K.clear_session()"
      ],
      "metadata": {
        "id": "WtzYjVNlLYzZ"
      },
      "execution_count": null,
      "outputs": []
    },
    {
      "cell_type": "markdown",
      "source": [
        "### estimate ATE"
      ],
      "metadata": {
        "id": "l7tCHkEZqNm0"
      }
    },
    {
      "cell_type": "code",
      "source": [
        "simple_errors_tarnet = []\n",
        "tmle_errors_tarnet = []\n",
        "knob = 'tarnet'\n",
        "model = 'tarreg'\n",
        "train_test = 'train'\n",
        "\n",
        "for rep in range(n_replications):\n",
        "  q_t0, q_t1, g, t, y_dragon, index, eps = load_data(knob, rep, model, train_test)\n",
        "  a, b = load_truth(rep,knob)\n",
        "  mu_1, mu_0 = a[index], b[index]\n",
        "\n",
        "  truth = (mu_1 - mu_0).mean()\n",
        "\n",
        "  truncate_level=0.01\n",
        "  psi_n = psi_naive(q_t0, q_t1, g, t, y_dragon, truncate_level=truncate_level)\n",
        "  psi_tmle, psi_tmle_std, eps_hat, initial_loss, final_loss, g_loss = psi_tmle_cont_outcome(q_t0, q_t1, g, t,\n",
        "                                                                                              y_dragon,\n",
        "                                                                                              truncate_level=truncate_level)\n",
        "\n",
        "  err = abs(truth - psi_n).mean()\n",
        "  tmle_err = abs(truth - psi_tmle).mean()\n",
        "  simple_errors_tarnet.append(err)\n",
        "  tmle_errors_tarnet.append(tmle_err)\n",
        "\n",
        "dict[knob][model] = np.mean(simple_errors_tarnet)\n",
        "tmle_dict[knob][model] = np.mean(tmle_errors_tarnet)\n",
        "\n",
        "print('simple error:',dict[knob][model])\n",
        "print('tmle error:',tmle_dict[knob][model], ' with std: ',psi_tmle_std)\n"
      ],
      "metadata": {
        "id": "JLUF9mbZVrHl"
      },
      "execution_count": null,
      "outputs": []
    },
    {
      "cell_type": "markdown",
      "source": [
        "# Experiment results"
      ],
      "metadata": {
        "id": "MJwcz57Wpgjw"
      }
    },
    {
      "cell_type": "markdown",
      "source": [
        "\n",
        "Dragonnet with targeted regularization is state-of-the-art among these methods. However,\n",
        "the small sample size and limited simulation settings of IHDP make it difficult to draw\n",
        "conclusions about the methods.\n",
        "\n",
        "The main takeaways of table 1 are: i) Our baseline method\n",
        "is a strong comparator and ii) reusing the same data for fitting the model and computing\n",
        "the estimate works better than data splitting"
      ],
      "metadata": {
        "id": "0yidrTUDqASl"
      }
    },
    {
      "cell_type": "code",
      "source": [
        "# Convert the dictionary to a DataFrame\n",
        "df = pd.DataFrame(dict).T  # Transpose to get models as rows and measures as columns\n",
        "\n",
        "# Display the DataFrame\n",
        "df"
      ],
      "metadata": {
        "id": "jmaEDuQmo8FQ"
      },
      "execution_count": null,
      "outputs": []
    },
    {
      "cell_type": "code",
      "source": [
        "tmle_dict\n",
        "# Convert the dictionary to a DataFrame\n",
        "tmle_df = pd.DataFrame(tmle_dict).T  # Transpose to get models as rows and measures as columns\n",
        "\n",
        "# Display the DataFrame\n",
        "tmle_df"
      ],
      "metadata": {
        "id": "LOFPd55IowxK"
      },
      "execution_count": null,
      "outputs": []
    },
    {
      "cell_type": "code",
      "source": [],
      "metadata": {
        "id": "oIeTvMIXpX_4"
      },
      "execution_count": null,
      "outputs": []
    }
  ]
}